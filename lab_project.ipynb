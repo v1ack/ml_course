{
 "cells": [
  {
   "cell_type": "markdown",
   "metadata": {
    "collapsed": true,
    "pycharm": {
     "name": "#%% md\n"
    }
   },
   "source": [
    "Владимир Кирилкин ПИ18-2\n",
    "\n",
    "ML 3.1. Оценка эффективности\n",
    "https://docs.google.com/document/d/1PbYLySVwPjlzKMbDfwAM-NbReoUTGRaOIGLocZ8F-Rg/edit\n",
    "Источник данных\n",
    "https://www.kaggle.com/kemical/kickstarter-projects"
   ]
  },
  {
   "cell_type": "code",
   "execution_count": 1,
   "metadata": {
    "pycharm": {
     "name": "#%%\n"
    }
   },
   "outputs": [],
   "source": [
    "import pandas as pd\n",
    "import matplotlib.pyplot as plt\n",
    "import seaborn as sns\n",
    "from sklearn.ensemble import RandomForestClassifier\n",
    "from sklearn.model_selection import GridSearchCV, train_test_split\n",
    "from sklearn.metrics import accuracy_score\n",
    "from sklearn.metrics import precision_score\n",
    "from sklearn.metrics import recall_score\n",
    "from sklearn.metrics import f1_score\n",
    "from sklearn.decomposition import PCA\n",
    "from wordcloud import WordCloud\n",
    "from sklearn.preprocessing import StandardScaler\n",
    "import xgboost as xgb"
   ]
  },
  {
   "cell_type": "code",
   "execution_count": null,
   "metadata": {
    "pycharm": {
     "name": "#%%\n"
    }
   },
   "outputs": [],
   "source": [
    "from google.colab import drive\n",
    "\n",
    "drive.mount(\"/content/gdrive\")"
   ]
  },
  {
   "cell_type": "code",
   "execution_count": null,
   "metadata": {
    "pycharm": {
     "name": "#%%\n"
    }
   },
   "outputs": [],
   "source": [
    "data = pd.read_csv(\"/content/gdrive/My Drive/Colab Notebooks/ks-projects-201801.csv\")\n",
    "data.head()"
   ]
  },
  {
   "cell_type": "code",
   "execution_count": 2,
   "metadata": {
    "pycharm": {
     "name": "#%%\n"
    }
   },
   "outputs": [
    {
     "data": {
      "text/html": [
       "<div>\n",
       "<style scoped>\n",
       "    .dataframe tbody tr th:only-of-type {\n",
       "        vertical-align: middle;\n",
       "    }\n",
       "\n",
       "    .dataframe tbody tr th {\n",
       "        vertical-align: top;\n",
       "    }\n",
       "\n",
       "    .dataframe thead th {\n",
       "        text-align: right;\n",
       "    }\n",
       "</style>\n",
       "<table border=\"1\" class=\"dataframe\">\n",
       "  <thead>\n",
       "    <tr style=\"text-align: right;\">\n",
       "      <th></th>\n",
       "      <th>ID</th>\n",
       "      <th>name</th>\n",
       "      <th>category</th>\n",
       "      <th>main_category</th>\n",
       "      <th>currency</th>\n",
       "      <th>deadline</th>\n",
       "      <th>goal</th>\n",
       "      <th>launched</th>\n",
       "      <th>pledged</th>\n",
       "      <th>state</th>\n",
       "      <th>backers</th>\n",
       "      <th>country</th>\n",
       "      <th>usd pledged</th>\n",
       "      <th>usd_pledged_real</th>\n",
       "      <th>usd_goal_real</th>\n",
       "    </tr>\n",
       "  </thead>\n",
       "  <tbody>\n",
       "    <tr>\n",
       "      <th>0</th>\n",
       "      <td>1000002330</td>\n",
       "      <td>The Songs of Adelaide &amp; Abullah</td>\n",
       "      <td>Poetry</td>\n",
       "      <td>Publishing</td>\n",
       "      <td>GBP</td>\n",
       "      <td>2015-10-09</td>\n",
       "      <td>1000.0</td>\n",
       "      <td>2015-08-11 12:12:28</td>\n",
       "      <td>0.0</td>\n",
       "      <td>failed</td>\n",
       "      <td>0</td>\n",
       "      <td>GB</td>\n",
       "      <td>0.0</td>\n",
       "      <td>0.0</td>\n",
       "      <td>1533.95</td>\n",
       "    </tr>\n",
       "    <tr>\n",
       "      <th>1</th>\n",
       "      <td>1000003930</td>\n",
       "      <td>Greeting From Earth: ZGAC Arts Capsule For ET</td>\n",
       "      <td>Narrative Film</td>\n",
       "      <td>Film &amp; Video</td>\n",
       "      <td>USD</td>\n",
       "      <td>2017-11-01</td>\n",
       "      <td>30000.0</td>\n",
       "      <td>2017-09-02 04:43:57</td>\n",
       "      <td>2421.0</td>\n",
       "      <td>failed</td>\n",
       "      <td>15</td>\n",
       "      <td>US</td>\n",
       "      <td>100.0</td>\n",
       "      <td>2421.0</td>\n",
       "      <td>30000.00</td>\n",
       "    </tr>\n",
       "    <tr>\n",
       "      <th>2</th>\n",
       "      <td>1000004038</td>\n",
       "      <td>Where is Hank?</td>\n",
       "      <td>Narrative Film</td>\n",
       "      <td>Film &amp; Video</td>\n",
       "      <td>USD</td>\n",
       "      <td>2013-02-26</td>\n",
       "      <td>45000.0</td>\n",
       "      <td>2013-01-12 00:20:50</td>\n",
       "      <td>220.0</td>\n",
       "      <td>failed</td>\n",
       "      <td>3</td>\n",
       "      <td>US</td>\n",
       "      <td>220.0</td>\n",
       "      <td>220.0</td>\n",
       "      <td>45000.00</td>\n",
       "    </tr>\n",
       "    <tr>\n",
       "      <th>3</th>\n",
       "      <td>1000007540</td>\n",
       "      <td>ToshiCapital Rekordz Needs Help to Complete Album</td>\n",
       "      <td>Music</td>\n",
       "      <td>Music</td>\n",
       "      <td>USD</td>\n",
       "      <td>2012-04-16</td>\n",
       "      <td>5000.0</td>\n",
       "      <td>2012-03-17 03:24:11</td>\n",
       "      <td>1.0</td>\n",
       "      <td>failed</td>\n",
       "      <td>1</td>\n",
       "      <td>US</td>\n",
       "      <td>1.0</td>\n",
       "      <td>1.0</td>\n",
       "      <td>5000.00</td>\n",
       "    </tr>\n",
       "    <tr>\n",
       "      <th>4</th>\n",
       "      <td>1000011046</td>\n",
       "      <td>Community Film Project: The Art of Neighborhoo...</td>\n",
       "      <td>Film &amp; Video</td>\n",
       "      <td>Film &amp; Video</td>\n",
       "      <td>USD</td>\n",
       "      <td>2015-08-29</td>\n",
       "      <td>19500.0</td>\n",
       "      <td>2015-07-04 08:35:03</td>\n",
       "      <td>1283.0</td>\n",
       "      <td>canceled</td>\n",
       "      <td>14</td>\n",
       "      <td>US</td>\n",
       "      <td>1283.0</td>\n",
       "      <td>1283.0</td>\n",
       "      <td>19500.00</td>\n",
       "    </tr>\n",
       "  </tbody>\n",
       "</table>\n",
       "</div>"
      ],
      "text/plain": [
       "           ID                                               name  \\\n",
       "0  1000002330                    The Songs of Adelaide & Abullah   \n",
       "1  1000003930      Greeting From Earth: ZGAC Arts Capsule For ET   \n",
       "2  1000004038                                     Where is Hank?   \n",
       "3  1000007540  ToshiCapital Rekordz Needs Help to Complete Album   \n",
       "4  1000011046  Community Film Project: The Art of Neighborhoo...   \n",
       "\n",
       "         category main_category currency    deadline     goal  \\\n",
       "0          Poetry    Publishing      GBP  2015-10-09   1000.0   \n",
       "1  Narrative Film  Film & Video      USD  2017-11-01  30000.0   \n",
       "2  Narrative Film  Film & Video      USD  2013-02-26  45000.0   \n",
       "3           Music         Music      USD  2012-04-16   5000.0   \n",
       "4    Film & Video  Film & Video      USD  2015-08-29  19500.0   \n",
       "\n",
       "              launched  pledged     state  backers country  usd pledged  \\\n",
       "0  2015-08-11 12:12:28      0.0    failed        0      GB          0.0   \n",
       "1  2017-09-02 04:43:57   2421.0    failed       15      US        100.0   \n",
       "2  2013-01-12 00:20:50    220.0    failed        3      US        220.0   \n",
       "3  2012-03-17 03:24:11      1.0    failed        1      US          1.0   \n",
       "4  2015-07-04 08:35:03   1283.0  canceled       14      US       1283.0   \n",
       "\n",
       "   usd_pledged_real  usd_goal_real  \n",
       "0               0.0        1533.95  \n",
       "1            2421.0       30000.00  \n",
       "2             220.0       45000.00  \n",
       "3               1.0        5000.00  \n",
       "4            1283.0       19500.00  "
      ]
     },
     "execution_count": 2,
     "metadata": {},
     "output_type": "execute_result"
    }
   ],
   "source": [
    "data = pd.read_csv(\"ks-projects-201801.csv\")\n",
    "data.head()"
   ]
  },
  {
   "cell_type": "markdown",
   "metadata": {
    "pycharm": {
     "name": "#%% md\n"
    }
   },
   "source": [
    "### Общая характеристика набора данных:\n",
    "\n",
    "Количество наблюдений 378661 -> 331675\n",
    "\n",
    "Признаков 15 -> 10\n",
    "\n",
    "Предметная область — результат привлечения частных инвестиций на платформе KickStarter\n",
    "\n",
    "Задача обучения — классификация, будет ли проект успешно завершен\n",
    "\n",
    "Структура данных\n",
    "\n",
    "| Имя              | Значение                                                     | Пригодность |\n",
    "| ---------------- | ------------------------------------------------------------ | ----------- |\n",
    "| id               | ID                                                           | ❌           |\n",
    "| name             | Название                                                     | ✔           |\n",
    "| category         | Подкатегория                                                 | ✔           |\n",
    "| main_category    | Категория                                                    | ✔           |\n",
    "| currency         | Валюта                                                       | ❌           |\n",
    "| deadline         | Дата завершения                                              | ❌           |\n",
    "| goal             | Цель в валюте проекта                                        | ❌           |\n",
    "| launched         | Дата начала                                                  | ✔           |\n",
    "| pledged          | Привлеченные средства в валюте проекта                       | ❌           |\n",
    "| state            | Статус                                                       | ✔           |\n",
    "| backers          | Количество вложившихся                                       | ❌           |\n",
    "| country          | Страна                                                       | ✔           |\n",
    "| usd pledged      | Привлеченные средства в USD (конвертация через KS)           | ❌           |\n",
    "| usd_pledged_real | Привлеченные средства в USD (конвертация через fixer.io api) | ✔           |\n",
    "| usd_goal_real    | Цель в USD                                                   | ✔           |\n",
    "| days             | Время проекта в днях                                         | ✔           |\n",
    "\n"
   ]
  },
  {
   "cell_type": "markdown",
   "metadata": {
    "pycharm": {
     "name": "#%% md\n"
    }
   },
   "source": [
    "Добавляем дни"
   ]
  },
  {
   "cell_type": "code",
   "execution_count": 3,
   "metadata": {
    "pycharm": {
     "name": "#%%\n"
    }
   },
   "outputs": [],
   "source": [
    "data[\"launched\"] = pd.to_datetime(data[\"launched\"], format=\"%Y-%m-%d %H:%M:%S\")\n",
    "data[\"days\"] = (pd.to_datetime(data[\"deadline\"], format=\"%Y-%m-%d\") - data[\"launched\"]).dt.days"
   ]
  },
  {
   "cell_type": "markdown",
   "metadata": {
    "pycharm": {
     "name": "#%% md\n"
    }
   },
   "source": [
    "Удаляем лишние данные"
   ]
  },
  {
   "cell_type": "code",
   "execution_count": 4,
   "metadata": {
    "pycharm": {
     "name": "#%%\n"
    }
   },
   "outputs": [
    {
     "data": {
      "text/plain": [
       "0          0\n",
       "1         15\n",
       "2          3\n",
       "3          1\n",
       "4         14\n",
       "          ..\n",
       "378656     1\n",
       "378657     5\n",
       "378658     1\n",
       "378659     6\n",
       "378660    17\n",
       "Name: backers, Length: 378661, dtype: int64"
      ]
     },
     "execution_count": 4,
     "metadata": {},
     "output_type": "execute_result"
    }
   ],
   "source": [
    "data.pop(\"ID\")\n",
    "data.pop(\"currency\")\n",
    "data.pop(\"deadline\")\n",
    "data.pop(\"goal\")\n",
    "data.pop(\"pledged\")\n",
    "data.pop(\"usd pledged\")\n",
    "data.pop(\"backers\")"
   ]
  },
  {
   "cell_type": "markdown",
   "metadata": {
    "pycharm": {
     "name": "#%% md\n"
    }
   },
   "source": [
    "Удаляем лишние статусы и приводим к success = True/False"
   ]
  },
  {
   "cell_type": "code",
   "execution_count": 5,
   "metadata": {
    "pycharm": {
     "name": "#%%\n"
    }
   },
   "outputs": [
    {
     "data": {
      "text/html": [
       "<div>\n",
       "<style scoped>\n",
       "    .dataframe tbody tr th:only-of-type {\n",
       "        vertical-align: middle;\n",
       "    }\n",
       "\n",
       "    .dataframe tbody tr th {\n",
       "        vertical-align: top;\n",
       "    }\n",
       "\n",
       "    .dataframe thead th {\n",
       "        text-align: right;\n",
       "    }\n",
       "</style>\n",
       "<table border=\"1\" class=\"dataframe\">\n",
       "  <thead>\n",
       "    <tr style=\"text-align: right;\">\n",
       "      <th></th>\n",
       "      <th>name</th>\n",
       "      <th>category</th>\n",
       "      <th>main_category</th>\n",
       "      <th>launched</th>\n",
       "      <th>country</th>\n",
       "      <th>usd_pledged_real</th>\n",
       "      <th>usd_goal_real</th>\n",
       "      <th>days</th>\n",
       "      <th>success</th>\n",
       "    </tr>\n",
       "  </thead>\n",
       "  <tbody>\n",
       "    <tr>\n",
       "      <th>0</th>\n",
       "      <td>The Songs of Adelaide &amp; Abullah</td>\n",
       "      <td>Poetry</td>\n",
       "      <td>Publishing</td>\n",
       "      <td>2015-08-11 12:12:28</td>\n",
       "      <td>GB</td>\n",
       "      <td>0.0</td>\n",
       "      <td>1533.95</td>\n",
       "      <td>58</td>\n",
       "      <td>False</td>\n",
       "    </tr>\n",
       "    <tr>\n",
       "      <th>1</th>\n",
       "      <td>Greeting From Earth: ZGAC Arts Capsule For ET</td>\n",
       "      <td>Narrative Film</td>\n",
       "      <td>Film &amp; Video</td>\n",
       "      <td>2017-09-02 04:43:57</td>\n",
       "      <td>US</td>\n",
       "      <td>2421.0</td>\n",
       "      <td>30000.00</td>\n",
       "      <td>59</td>\n",
       "      <td>False</td>\n",
       "    </tr>\n",
       "    <tr>\n",
       "      <th>2</th>\n",
       "      <td>Where is Hank?</td>\n",
       "      <td>Narrative Film</td>\n",
       "      <td>Film &amp; Video</td>\n",
       "      <td>2013-01-12 00:20:50</td>\n",
       "      <td>US</td>\n",
       "      <td>220.0</td>\n",
       "      <td>45000.00</td>\n",
       "      <td>44</td>\n",
       "      <td>False</td>\n",
       "    </tr>\n",
       "    <tr>\n",
       "      <th>3</th>\n",
       "      <td>ToshiCapital Rekordz Needs Help to Complete Album</td>\n",
       "      <td>Music</td>\n",
       "      <td>Music</td>\n",
       "      <td>2012-03-17 03:24:11</td>\n",
       "      <td>US</td>\n",
       "      <td>1.0</td>\n",
       "      <td>5000.00</td>\n",
       "      <td>29</td>\n",
       "      <td>False</td>\n",
       "    </tr>\n",
       "    <tr>\n",
       "      <th>5</th>\n",
       "      <td>Monarch Espresso Bar</td>\n",
       "      <td>Restaurants</td>\n",
       "      <td>Food</td>\n",
       "      <td>2016-02-26 13:38:27</td>\n",
       "      <td>US</td>\n",
       "      <td>52375.0</td>\n",
       "      <td>50000.00</td>\n",
       "      <td>34</td>\n",
       "      <td>True</td>\n",
       "    </tr>\n",
       "    <tr>\n",
       "      <th>...</th>\n",
       "      <td>...</td>\n",
       "      <td>...</td>\n",
       "      <td>...</td>\n",
       "      <td>...</td>\n",
       "      <td>...</td>\n",
       "      <td>...</td>\n",
       "      <td>...</td>\n",
       "      <td>...</td>\n",
       "      <td>...</td>\n",
       "    </tr>\n",
       "    <tr>\n",
       "      <th>378654</th>\n",
       "      <td>Homemade fresh dog food, Cleveland OH</td>\n",
       "      <td>Small Batch</td>\n",
       "      <td>Food</td>\n",
       "      <td>2017-03-20 22:08:22</td>\n",
       "      <td>US</td>\n",
       "      <td>154.0</td>\n",
       "      <td>6500.00</td>\n",
       "      <td>29</td>\n",
       "      <td>False</td>\n",
       "    </tr>\n",
       "    <tr>\n",
       "      <th>378657</th>\n",
       "      <td>The Tribe</td>\n",
       "      <td>Narrative Film</td>\n",
       "      <td>Film &amp; Video</td>\n",
       "      <td>2011-06-22 03:35:14</td>\n",
       "      <td>US</td>\n",
       "      <td>155.0</td>\n",
       "      <td>1500.00</td>\n",
       "      <td>26</td>\n",
       "      <td>False</td>\n",
       "    </tr>\n",
       "    <tr>\n",
       "      <th>378658</th>\n",
       "      <td>Walls of Remedy- New lesbian Romantic Comedy f...</td>\n",
       "      <td>Narrative Film</td>\n",
       "      <td>Film &amp; Video</td>\n",
       "      <td>2010-07-01 19:40:30</td>\n",
       "      <td>US</td>\n",
       "      <td>20.0</td>\n",
       "      <td>15000.00</td>\n",
       "      <td>45</td>\n",
       "      <td>False</td>\n",
       "    </tr>\n",
       "    <tr>\n",
       "      <th>378659</th>\n",
       "      <td>BioDefense Education Kit</td>\n",
       "      <td>Technology</td>\n",
       "      <td>Technology</td>\n",
       "      <td>2016-01-13 18:13:53</td>\n",
       "      <td>US</td>\n",
       "      <td>200.0</td>\n",
       "      <td>15000.00</td>\n",
       "      <td>30</td>\n",
       "      <td>False</td>\n",
       "    </tr>\n",
       "    <tr>\n",
       "      <th>378660</th>\n",
       "      <td>Nou Renmen Ayiti!  We Love Haiti!</td>\n",
       "      <td>Performance Art</td>\n",
       "      <td>Art</td>\n",
       "      <td>2011-07-19 09:07:47</td>\n",
       "      <td>US</td>\n",
       "      <td>524.0</td>\n",
       "      <td>2000.00</td>\n",
       "      <td>27</td>\n",
       "      <td>False</td>\n",
       "    </tr>\n",
       "  </tbody>\n",
       "</table>\n",
       "<p>331675 rows × 9 columns</p>\n",
       "</div>"
      ],
      "text/plain": [
       "                                                     name         category  \\\n",
       "0                         The Songs of Adelaide & Abullah           Poetry   \n",
       "1           Greeting From Earth: ZGAC Arts Capsule For ET   Narrative Film   \n",
       "2                                          Where is Hank?   Narrative Film   \n",
       "3       ToshiCapital Rekordz Needs Help to Complete Album            Music   \n",
       "5                                    Monarch Espresso Bar      Restaurants   \n",
       "...                                                   ...              ...   \n",
       "378654              Homemade fresh dog food, Cleveland OH      Small Batch   \n",
       "378657                                          The Tribe   Narrative Film   \n",
       "378658  Walls of Remedy- New lesbian Romantic Comedy f...   Narrative Film   \n",
       "378659                           BioDefense Education Kit       Technology   \n",
       "378660                  Nou Renmen Ayiti!  We Love Haiti!  Performance Art   \n",
       "\n",
       "       main_category            launched country  usd_pledged_real  \\\n",
       "0         Publishing 2015-08-11 12:12:28      GB               0.0   \n",
       "1       Film & Video 2017-09-02 04:43:57      US            2421.0   \n",
       "2       Film & Video 2013-01-12 00:20:50      US             220.0   \n",
       "3              Music 2012-03-17 03:24:11      US               1.0   \n",
       "5               Food 2016-02-26 13:38:27      US           52375.0   \n",
       "...              ...                 ...     ...               ...   \n",
       "378654          Food 2017-03-20 22:08:22      US             154.0   \n",
       "378657  Film & Video 2011-06-22 03:35:14      US             155.0   \n",
       "378658  Film & Video 2010-07-01 19:40:30      US              20.0   \n",
       "378659    Technology 2016-01-13 18:13:53      US             200.0   \n",
       "378660           Art 2011-07-19 09:07:47      US             524.0   \n",
       "\n",
       "        usd_goal_real  days  success  \n",
       "0             1533.95    58    False  \n",
       "1            30000.00    59    False  \n",
       "2            45000.00    44    False  \n",
       "3             5000.00    29    False  \n",
       "5            50000.00    34     True  \n",
       "...               ...   ...      ...  \n",
       "378654        6500.00    29    False  \n",
       "378657        1500.00    26    False  \n",
       "378658       15000.00    45    False  \n",
       "378659       15000.00    30    False  \n",
       "378660        2000.00    27    False  \n",
       "\n",
       "[331675 rows x 9 columns]"
      ]
     },
     "execution_count": 5,
     "metadata": {},
     "output_type": "execute_result"
    }
   ],
   "source": [
    "states = [\"failed\", \"successful\"]\n",
    "data = data.query(\"state in @states\")\n",
    "data[\"success\"] = data[\"state\"] == \"successful\"\n",
    "data.pop(\"state\")\n",
    "data"
   ]
  },
  {
   "cell_type": "code",
   "execution_count": 6,
   "metadata": {
    "pycharm": {
     "name": "#%%\n"
    }
   },
   "outputs": [],
   "source": [
    "data[\"category\"] = data[\"category\"].astype('category')\n",
    "data[\"main_category\"] = data[\"main_category\"].astype('category')\n",
    "data[\"country\"] = data[\"country\"].astype('category')"
   ]
  },
  {
   "cell_type": "code",
   "execution_count": 50,
   "metadata": {
    "pycharm": {
     "name": "#%%\n"
    }
   },
   "outputs": [
    {
     "data": {
      "text/html": [
       "<div>\n",
       "<style scoped>\n",
       "    .dataframe tbody tr th:only-of-type {\n",
       "        vertical-align: middle;\n",
       "    }\n",
       "\n",
       "    .dataframe tbody tr th {\n",
       "        vertical-align: top;\n",
       "    }\n",
       "\n",
       "    .dataframe thead th {\n",
       "        text-align: right;\n",
       "    }\n",
       "</style>\n",
       "<table border=\"1\" class=\"dataframe\">\n",
       "  <thead>\n",
       "    <tr style=\"text-align: right;\">\n",
       "      <th></th>\n",
       "      <th>name</th>\n",
       "      <th>category</th>\n",
       "      <th>main_category</th>\n",
       "      <th>launched</th>\n",
       "      <th>country</th>\n",
       "      <th>usd_pledged_real</th>\n",
       "      <th>usd_goal_real</th>\n",
       "      <th>days</th>\n",
       "      <th>success</th>\n",
       "    </tr>\n",
       "  </thead>\n",
       "  <tbody>\n",
       "    <tr>\n",
       "      <th>0</th>\n",
       "      <td>The Songs of Adelaide &amp; Abullah</td>\n",
       "      <td>Poetry</td>\n",
       "      <td>Publishing</td>\n",
       "      <td>2015-08-11 12:12:28</td>\n",
       "      <td>GB</td>\n",
       "      <td>0.0</td>\n",
       "      <td>1533.95</td>\n",
       "      <td>58</td>\n",
       "      <td>False</td>\n",
       "    </tr>\n",
       "    <tr>\n",
       "      <th>1</th>\n",
       "      <td>Greeting From Earth: ZGAC Arts Capsule For ET</td>\n",
       "      <td>Narrative Film</td>\n",
       "      <td>Film &amp; Video</td>\n",
       "      <td>2017-09-02 04:43:57</td>\n",
       "      <td>US</td>\n",
       "      <td>2421.0</td>\n",
       "      <td>30000.00</td>\n",
       "      <td>59</td>\n",
       "      <td>False</td>\n",
       "    </tr>\n",
       "    <tr>\n",
       "      <th>2</th>\n",
       "      <td>Where is Hank?</td>\n",
       "      <td>Narrative Film</td>\n",
       "      <td>Film &amp; Video</td>\n",
       "      <td>2013-01-12 00:20:50</td>\n",
       "      <td>US</td>\n",
       "      <td>220.0</td>\n",
       "      <td>45000.00</td>\n",
       "      <td>44</td>\n",
       "      <td>False</td>\n",
       "    </tr>\n",
       "    <tr>\n",
       "      <th>3</th>\n",
       "      <td>ToshiCapital Rekordz Needs Help to Complete Album</td>\n",
       "      <td>Music</td>\n",
       "      <td>Music</td>\n",
       "      <td>2012-03-17 03:24:11</td>\n",
       "      <td>US</td>\n",
       "      <td>1.0</td>\n",
       "      <td>5000.00</td>\n",
       "      <td>29</td>\n",
       "      <td>False</td>\n",
       "    </tr>\n",
       "    <tr>\n",
       "      <th>5</th>\n",
       "      <td>Monarch Espresso Bar</td>\n",
       "      <td>Restaurants</td>\n",
       "      <td>Food</td>\n",
       "      <td>2016-02-26 13:38:27</td>\n",
       "      <td>US</td>\n",
       "      <td>52375.0</td>\n",
       "      <td>50000.00</td>\n",
       "      <td>34</td>\n",
       "      <td>True</td>\n",
       "    </tr>\n",
       "  </tbody>\n",
       "</table>\n",
       "</div>"
      ],
      "text/plain": [
       "                                                name        category  \\\n",
       "0                    The Songs of Adelaide & Abullah          Poetry   \n",
       "1      Greeting From Earth: ZGAC Arts Capsule For ET  Narrative Film   \n",
       "2                                     Where is Hank?  Narrative Film   \n",
       "3  ToshiCapital Rekordz Needs Help to Complete Album           Music   \n",
       "5                               Monarch Espresso Bar     Restaurants   \n",
       "\n",
       "  main_category            launched country  usd_pledged_real  usd_goal_real  \\\n",
       "0    Publishing 2015-08-11 12:12:28      GB               0.0        1533.95   \n",
       "1  Film & Video 2017-09-02 04:43:57      US            2421.0       30000.00   \n",
       "2  Film & Video 2013-01-12 00:20:50      US             220.0       45000.00   \n",
       "3         Music 2012-03-17 03:24:11      US               1.0        5000.00   \n",
       "5          Food 2016-02-26 13:38:27      US           52375.0       50000.00   \n",
       "\n",
       "   days  success  \n",
       "0    58    False  \n",
       "1    59    False  \n",
       "2    44    False  \n",
       "3    29    False  \n",
       "5    34     True  "
      ]
     },
     "execution_count": 50,
     "metadata": {},
     "output_type": "execute_result"
    }
   ],
   "source": [
    "data.head()"
   ]
  },
  {
   "cell_type": "code",
   "execution_count": 51,
   "metadata": {
    "pycharm": {
     "name": "#%%\n"
    }
   },
   "outputs": [
    {
     "name": "stdout",
     "output_type": "stream",
     "text": [
      "<class 'pandas.core.frame.DataFrame'>\n",
      "Int64Index: 331675 entries, 0 to 378660\n",
      "Data columns (total 9 columns):\n",
      " #   Column            Non-Null Count   Dtype         \n",
      "---  ------            --------------   -----         \n",
      " 0   name              331672 non-null  object        \n",
      " 1   category          331675 non-null  category      \n",
      " 2   main_category     331675 non-null  category      \n",
      " 3   launched          331675 non-null  datetime64[ns]\n",
      " 4   country           331675 non-null  category      \n",
      " 5   usd_pledged_real  331675 non-null  float64       \n",
      " 6   usd_goal_real     331675 non-null  float64       \n",
      " 7   days              331675 non-null  int64         \n",
      " 8   success           331675 non-null  bool          \n",
      "dtypes: bool(1), category(3), datetime64[ns](1), float64(2), int64(1), object(1)\n",
      "memory usage: 16.8+ MB\n"
     ]
    }
   ],
   "source": [
    "data.info()"
   ]
  },
  {
   "cell_type": "code",
   "execution_count": 52,
   "metadata": {
    "pycharm": {
     "name": "#%%\n"
    }
   },
   "outputs": [
    {
     "data": {
      "text/html": [
       "<div>\n",
       "<style scoped>\n",
       "    .dataframe tbody tr th:only-of-type {\n",
       "        vertical-align: middle;\n",
       "    }\n",
       "\n",
       "    .dataframe tbody tr th {\n",
       "        vertical-align: top;\n",
       "    }\n",
       "\n",
       "    .dataframe thead th {\n",
       "        text-align: right;\n",
       "    }\n",
       "</style>\n",
       "<table border=\"1\" class=\"dataframe\">\n",
       "  <thead>\n",
       "    <tr style=\"text-align: right;\">\n",
       "      <th></th>\n",
       "      <th>usd_pledged_real</th>\n",
       "      <th>usd_goal_real</th>\n",
       "      <th>days</th>\n",
       "    </tr>\n",
       "  </thead>\n",
       "  <tbody>\n",
       "    <tr>\n",
       "      <th>count</th>\n",
       "      <td>3.316750e+05</td>\n",
       "      <td>3.316750e+05</td>\n",
       "      <td>331675.000000</td>\n",
       "    </tr>\n",
       "    <tr>\n",
       "      <th>mean</th>\n",
       "      <td>9.943461e+03</td>\n",
       "      <td>4.151000e+04</td>\n",
       "      <td>32.954902</td>\n",
       "    </tr>\n",
       "    <tr>\n",
       "      <th>std</th>\n",
       "      <td>9.673293e+04</td>\n",
       "      <td>1.108930e+06</td>\n",
       "      <td>12.713329</td>\n",
       "    </tr>\n",
       "    <tr>\n",
       "      <th>min</th>\n",
       "      <td>0.000000e+00</td>\n",
       "      <td>1.000000e-02</td>\n",
       "      <td>0.000000</td>\n",
       "    </tr>\n",
       "    <tr>\n",
       "      <th>25%</th>\n",
       "      <td>5.000000e+01</td>\n",
       "      <td>2.000000e+03</td>\n",
       "      <td>29.000000</td>\n",
       "    </tr>\n",
       "    <tr>\n",
       "      <th>50%</th>\n",
       "      <td>7.880000e+02</td>\n",
       "      <td>5.000000e+03</td>\n",
       "      <td>29.000000</td>\n",
       "    </tr>\n",
       "    <tr>\n",
       "      <th>75%</th>\n",
       "      <td>4.608000e+03</td>\n",
       "      <td>1.500000e+04</td>\n",
       "      <td>35.000000</td>\n",
       "    </tr>\n",
       "    <tr>\n",
       "      <th>max</th>\n",
       "      <td>2.033899e+07</td>\n",
       "      <td>1.663614e+08</td>\n",
       "      <td>91.000000</td>\n",
       "    </tr>\n",
       "  </tbody>\n",
       "</table>\n",
       "</div>"
      ],
      "text/plain": [
       "       usd_pledged_real  usd_goal_real           days\n",
       "count      3.316750e+05   3.316750e+05  331675.000000\n",
       "mean       9.943461e+03   4.151000e+04      32.954902\n",
       "std        9.673293e+04   1.108930e+06      12.713329\n",
       "min        0.000000e+00   1.000000e-02       0.000000\n",
       "25%        5.000000e+01   2.000000e+03      29.000000\n",
       "50%        7.880000e+02   5.000000e+03      29.000000\n",
       "75%        4.608000e+03   1.500000e+04      35.000000\n",
       "max        2.033899e+07   1.663614e+08      91.000000"
      ]
     },
     "execution_count": 52,
     "metadata": {},
     "output_type": "execute_result"
    }
   ],
   "source": [
    "data.describe()"
   ]
  },
  {
   "cell_type": "code",
   "execution_count": 53,
   "metadata": {
    "pycharm": {
     "name": "#%%\n"
    }
   },
   "outputs": [
    {
     "data": {
      "text/plain": [
       "name                 True\n",
       "category            False\n",
       "main_category       False\n",
       "launched            False\n",
       "country             False\n",
       "usd_pledged_real    False\n",
       "usd_goal_real       False\n",
       "days                False\n",
       "success             False\n",
       "dtype: bool"
      ]
     },
     "execution_count": 53,
     "metadata": {},
     "output_type": "execute_result"
    }
   ],
   "source": [
    "data.isna().any()"
   ]
  },
  {
   "cell_type": "markdown",
   "metadata": {
    "pycharm": {
     "name": "#%% md\n"
    }
   },
   "source": [
    "na только name, что не критично"
   ]
  },
  {
   "cell_type": "code",
   "execution_count": 11,
   "metadata": {
    "pycharm": {
     "name": "#%%\n"
    }
   },
   "outputs": [
    {
     "data": {
      "text/plain": [
       "<seaborn.axisgrid.FacetGrid at 0x1c9ffee8f40>"
      ]
     },
     "execution_count": 11,
     "metadata": {},
     "output_type": "execute_result"
    },
    {
     "data": {
      "image/png": "[encoded data removed]",
      "text/plain": [
       "<Figure size 601.25x360 with 1 Axes>"
      ]
     },
     "metadata": {
      "needs_background": "light"
     },
     "output_type": "display_data"
    }
   ],
   "source": [
    "g = sns.displot(data=data, x=\"main_category\", hue=\"success\", multiple=\"stack\", aspect=1.5)\n",
    "g.set_xticklabels(rotation=45)\n",
    "g.fig.suptitle(\"Статус компаний по категориям\")\n",
    "g"
   ]
  },
  {
   "cell_type": "code",
   "execution_count": 16,
   "metadata": {
    "pycharm": {
     "name": "#%%\n"
    }
   },
   "outputs": [
    {
     "data": {
      "text/plain": [
       "<matplotlib.axes._subplots.AxesSubplot at 0x1c98a20c640>"
      ]
     },
     "execution_count": 16,
     "metadata": {},
     "output_type": "execute_result"
    },
    {
     "data": {
      "image/png": "[encoded data removed]",
      "text/plain": [
       "<Figure size 432x288 with 2 Axes>"
      ]
     },
     "metadata": {
      "needs_background": "light"
     },
     "output_type": "display_data"
    }
   ],
   "source": [
    "corr = data.corr()\n",
    "sns.heatmap(corr,\n",
    "            xticklabels=corr.columns.values,\n",
    "            yticklabels=corr.columns.values,\n",
    "            annot=True)\n",
    "\n",
    "# sns.histplot(data.aggregate({\"usd_pledged_real\": \"sum\"}), x=\"category\", y=\"usd_pledged_real\")"
   ]
  },
  {
   "cell_type": "code",
   "execution_count": 24,
   "metadata": {
    "pycharm": {
     "name": "#%%\n"
    }
   },
   "outputs": [],
   "source": [
    "t = data.head(200)\n",
    "# data.aggregate({\"usd_pledged_real\": \"sum\"})\n"
   ]
  },
  {
   "cell_type": "code",
   "execution_count": 56,
   "metadata": {
    "pycharm": {
     "name": "#%%\n"
    }
   },
   "outputs": [
    {
     "data": {
      "text/plain": [
       "<matplotlib.axes._subplots.AxesSubplot at 0x2a29b9468e0>"
      ]
     },
     "execution_count": 56,
     "metadata": {},
     "output_type": "execute_result"
    },
    {
     "data": {
      "image/png": "[encoded data removed]",
      "text/plain": [
       "<Figure size 432x288 with 1 Axes>"
      ]
     },
     "metadata": {
      "needs_background": "light"
     },
     "output_type": "display_data"
    }
   ],
   "source": [
    "g = sns.boxplot(data=data,  y=\"usd_goal_real\", x=\"success\")\n",
    "g"
   ]
  },
  {
   "cell_type": "code",
   "execution_count": 22,
   "metadata": {
    "pycharm": {
     "name": "#%%\n"
    }
   },
   "outputs": [
    {
     "data": {
      "text/plain": [
       "<matplotlib.axes._subplots.AxesSubplot at 0x1c98afa48b0>"
      ]
     },
     "execution_count": 22,
     "metadata": {},
     "output_type": "execute_result"
    },
    {
     "data": {
      "image/png": "[encoded data removed]",
      "text/plain": [
       "<Figure size 432x288 with 1 Axes>"
      ]
     },
     "metadata": {
      "needs_background": "light"
     },
     "output_type": "display_data"
    }
   ],
   "source": [
    "data[\"usd_goal_real\"].hist(log=True)"
   ]
  },
  {
   "cell_type": "code",
   "execution_count": 21,
   "metadata": {
    "pycharm": {
     "name": "#%%\n"
    }
   },
   "outputs": [
    {
     "data": {
      "text/plain": [
       "<matplotlib.axes._subplots.AxesSubplot at 0x1c98953c460>"
      ]
     },
     "execution_count": 21,
     "metadata": {},
     "output_type": "execute_result"
    },
    {
     "data": {
      "image/png": "[encoded data removed]",
      "text/plain": [
       "<Figure size 432x288 with 1 Axes>"
      ]
     },
     "metadata": {
      "needs_background": "light"
     },
     "output_type": "display_data"
    }
   ],
   "source": [
    "data[\"usd_pledged_real\"].hist(log=True)"
   ]
  },
  {
   "cell_type": "code",
   "execution_count": 13,
   "metadata": {
    "pycharm": {
     "name": "#%%\n"
    }
   },
   "outputs": [],
   "source": [
    "# data[\"backers\"].hist()"
   ]
  },
  {
   "cell_type": "code",
   "execution_count": 98,
   "metadata": {
    "pycharm": {
     "name": "#%%\n"
    }
   },
   "outputs": [
    {
     "data": {
      "text/plain": [
       "<matplotlib.axes._subplots.AxesSubplot at 0x2a31b76ce20>"
      ]
     },
     "execution_count": 98,
     "metadata": {},
     "output_type": "execute_result"
    },
    {
     "data": {
      "image/png": "[encoded data removed]",
      "text/plain": [
       "<Figure size 432x288 with 1 Axes>"
      ]
     },
     "metadata": {
      "needs_background": "light"
     },
     "output_type": "display_data"
    }
   ],
   "source": [
    "data[\"country\"].hist()"
   ]
  },
  {
   "cell_type": "code",
   "execution_count": 34,
   "metadata": {
    "pycharm": {
     "name": "#%%\n"
    }
   },
   "outputs": [
    {
     "data": {
      "text/plain": [
       "US      261360\n",
       "GB       29454\n",
       "CA       12370\n",
       "AU        6616\n",
       "DE        3436\n",
       "FR        2520\n",
       "NL        2411\n",
       "IT        2369\n",
       "ES        1873\n",
       "SE        1509\n",
       "MX        1411\n",
       "NZ        1274\n",
       "DK         926\n",
       "IE         683\n",
       "CH         652\n",
       "NO         582\n",
       "BE         523\n",
       "AT         485\n",
       "HK         477\n",
       "SG         454\n",
       "N,0\"       210\n",
       "LU          57\n",
       "JP          23\n",
       "Name: country, dtype: int64"
      ]
     },
     "execution_count": 34,
     "metadata": {},
     "output_type": "execute_result"
    }
   ],
   "source": [
    "data[\"country\"].value_counts()"
   ]
  },
  {
   "cell_type": "code",
   "execution_count": 18,
   "metadata": {
    "pycharm": {
     "name": "#%%\n"
    }
   },
   "outputs": [
    {
     "data": {
      "text/plain": [
       "<matplotlib.axes._subplots.AxesSubplot at 0x1c98ba021c0>"
      ]
     },
     "execution_count": 18,
     "metadata": {},
     "output_type": "execute_result"
    },
    {
     "data": {
      "image/png": "[encoded data removed]",
      "text/plain": [
       "<Figure size 432x288 with 1 Axes>"
      ]
     },
     "metadata": {
      "needs_background": "light"
     },
     "output_type": "display_data"
    }
   ],
   "source": [
    "data[\"days\"].hist()"
   ]
  },
  {
   "cell_type": "code",
   "execution_count": 17,
   "metadata": {
    "pycharm": {
     "name": "#%%\n"
    }
   },
   "outputs": [
    {
     "data": {
      "text/plain": [
       "<matplotlib.axes._subplots.AxesSubplot at 0x1811323f880>"
      ]
     },
     "execution_count": 17,
     "metadata": {},
     "output_type": "execute_result"
    },
    {
     "data": {
      "image/png": "[encoded data removed]",
      "text/plain": [
       "<Figure size 432x288 with 1 Axes>"
      ]
     },
     "metadata": {
      "needs_background": "light"
     },
     "output_type": "display_data"
    }
   ],
   "source": [
    "sns.countplot(x=data[\"success\"])"
   ]
  },
  {
   "cell_type": "code",
   "execution_count": 38,
   "metadata": {
    "pycharm": {
     "name": "#%%\n"
    }
   },
   "outputs": [
    {
     "data": {
      "image/png": "[encoded data removed]",
      "text/plain": [
       "<Figure size 432x576 with 2 Axes>"
      ]
     },
     "metadata": {
      "needs_background": "light"
     },
     "output_type": "display_data"
    }
   ],
   "source": [
    "fig, axes = plt.subplots(nrows=2, ncols=1, figsize=(6, 8))\n",
    "\n",
    "wordcloud = WordCloud(background_color=\"white\").generate(data.query(\"success == True\")[\"name\"].to_string())\n",
    "\n",
    "axes[0].imshow(wordcloud, interpolation='bilinear')\n",
    "axes[0].axis(\"off\")\n",
    "axes[0].set_title(\"Успешные компании\")\n",
    "\n",
    "wordcloud = WordCloud(background_color=\"white\").generate(data.query(\"success == False\")[\"name\"].to_string())\n",
    "\n",
    "axes[1].imshow(wordcloud, interpolation='bilinear')\n",
    "axes[1].axis(\"off\")\n",
    "axes[1].set_title(\"Провалившиеся компании\")\n",
    "fig.tight_layout()"
   ]
  },
  {
   "cell_type": "code",
   "execution_count": 7,
   "metadata": {
    "pycharm": {
     "name": "#%%\n"
    }
   },
   "outputs": [],
   "source": [
    "X = data.drop([\"name\", \"success\", \"launched\",\"category\",\"usd_pledged_real\"], axis=1)\n",
    "categories = {\"Music\", \"Theater\", \"Technology\", \"Fashion\", \"Comics\", \"Food\", \"Crafts\", \"Publishing\", \"Dance\"}\n",
    "X[\"main_category\"] = X[\"main_category\"].apply(lambda x: x if x in categories else \"OT_CAT\")\n",
    "X = X.join(pd.get_dummies(X['main_category'])).drop([\"main_category\", \"OT_CAT\"], axis=1)\n",
    "X[\"country\"] = X[\"country\"].apply(lambda x: x if x in {\"US\"} else \"OT_COUNTRY\")\n",
    "X = X.join(pd.get_dummies(X['country'])).drop([\"country\", \"OT_COUNTRY\"], axis=1)\n",
    "y = data[\"success\"]\n",
    "x_train, x_test, y_train, y_test = train_test_split(X, y,\n",
    "                                                    test_size=0.25,\n",
    "                                                   random_state=2)"
   ]
  },
  {
   "cell_type": "code",
   "execution_count": 8,
   "metadata": {
    "pycharm": {
     "name": "#%%\n"
    }
   },
   "outputs": [
    {
     "data": {
      "text/html": [
       "<div>\n",
       "<style scoped>\n",
       "    .dataframe tbody tr th:only-of-type {\n",
       "        vertical-align: middle;\n",
       "    }\n",
       "\n",
       "    .dataframe tbody tr th {\n",
       "        vertical-align: top;\n",
       "    }\n",
       "\n",
       "    .dataframe thead th {\n",
       "        text-align: right;\n",
       "    }\n",
       "</style>\n",
       "<table border=\"1\" class=\"dataframe\">\n",
       "  <thead>\n",
       "    <tr style=\"text-align: right;\">\n",
       "      <th></th>\n",
       "      <th>usd_goal_real</th>\n",
       "      <th>days</th>\n",
       "      <th>Comics</th>\n",
       "      <th>Crafts</th>\n",
       "      <th>Dance</th>\n",
       "      <th>Fashion</th>\n",
       "      <th>Food</th>\n",
       "      <th>Music</th>\n",
       "      <th>Publishing</th>\n",
       "      <th>Technology</th>\n",
       "      <th>Theater</th>\n",
       "      <th>US</th>\n",
       "    </tr>\n",
       "  </thead>\n",
       "  <tbody>\n",
       "    <tr>\n",
       "      <th>142793</th>\n",
       "      <td>22319.93</td>\n",
       "      <td>59</td>\n",
       "      <td>0</td>\n",
       "      <td>0</td>\n",
       "      <td>0</td>\n",
       "      <td>1</td>\n",
       "      <td>0</td>\n",
       "      <td>0</td>\n",
       "      <td>0</td>\n",
       "      <td>0</td>\n",
       "      <td>0</td>\n",
       "      <td>0</td>\n",
       "    </tr>\n",
       "    <tr>\n",
       "      <th>15230</th>\n",
       "      <td>4000.00</td>\n",
       "      <td>36</td>\n",
       "      <td>0</td>\n",
       "      <td>0</td>\n",
       "      <td>0</td>\n",
       "      <td>0</td>\n",
       "      <td>0</td>\n",
       "      <td>0</td>\n",
       "      <td>0</td>\n",
       "      <td>0</td>\n",
       "      <td>1</td>\n",
       "      <td>1</td>\n",
       "    </tr>\n",
       "    <tr>\n",
       "      <th>104984</th>\n",
       "      <td>1315.12</td>\n",
       "      <td>24</td>\n",
       "      <td>0</td>\n",
       "      <td>0</td>\n",
       "      <td>0</td>\n",
       "      <td>0</td>\n",
       "      <td>0</td>\n",
       "      <td>1</td>\n",
       "      <td>0</td>\n",
       "      <td>0</td>\n",
       "      <td>0</td>\n",
       "      <td>0</td>\n",
       "    </tr>\n",
       "    <tr>\n",
       "      <th>60498</th>\n",
       "      <td>900.00</td>\n",
       "      <td>44</td>\n",
       "      <td>0</td>\n",
       "      <td>0</td>\n",
       "      <td>0</td>\n",
       "      <td>0</td>\n",
       "      <td>0</td>\n",
       "      <td>0</td>\n",
       "      <td>0</td>\n",
       "      <td>0</td>\n",
       "      <td>0</td>\n",
       "      <td>1</td>\n",
       "    </tr>\n",
       "    <tr>\n",
       "      <th>118515</th>\n",
       "      <td>7300.00</td>\n",
       "      <td>13</td>\n",
       "      <td>0</td>\n",
       "      <td>0</td>\n",
       "      <td>0</td>\n",
       "      <td>0</td>\n",
       "      <td>0</td>\n",
       "      <td>0</td>\n",
       "      <td>0</td>\n",
       "      <td>0</td>\n",
       "      <td>0</td>\n",
       "      <td>1</td>\n",
       "    </tr>\n",
       "  </tbody>\n",
       "</table>\n",
       "</div>"
      ],
      "text/plain": [
       "        usd_goal_real  days  Comics  Crafts  Dance  Fashion  Food  Music  \\\n",
       "142793       22319.93    59       0       0      0        1     0      0   \n",
       "15230         4000.00    36       0       0      0        0     0      0   \n",
       "104984        1315.12    24       0       0      0        0     0      1   \n",
       "60498          900.00    44       0       0      0        0     0      0   \n",
       "118515        7300.00    13       0       0      0        0     0      0   \n",
       "\n",
       "        Publishing  Technology  Theater  US  \n",
       "142793           0           0        0   0  \n",
       "15230            0           0        1   1  \n",
       "104984           0           0        0   0  \n",
       "60498            0           0        0   1  \n",
       "118515           0           0        0   1  "
      ]
     },
     "execution_count": 8,
     "metadata": {},
     "output_type": "execute_result"
    }
   ],
   "source": [
    "x_train.head()"
   ]
  },
  {
   "cell_type": "code",
   "execution_count": 55,
   "metadata": {
    "pycharm": {
     "name": "#%%\n"
    }
   },
   "outputs": [
    {
     "data": {
      "text/plain": [
       "<matplotlib.axes._subplots.AxesSubplot at 0x248ed7cfd30>"
      ]
     },
     "execution_count": 55,
     "metadata": {},
     "output_type": "execute_result"
    },
    {
     "data": {
      "image/png": "[encoded data removed]",
      "text/plain": [
       "<Figure size 432x288 with 2 Axes>"
      ]
     },
     "metadata": {
      "needs_background": "light"
     },
     "output_type": "display_data"
    }
   ],
   "source": [
    "corr = X.corr()\n",
    "sns.heatmap(corr,\n",
    "            xticklabels=corr.columns.values,\n",
    "            yticklabels=corr.columns.values,\n",
    "            annot=True)"
   ]
  },
  {
   "cell_type": "markdown",
   "metadata": {
    "pycharm": {
     "name": "#%% md\n"
    }
   },
   "source": [
    "Поиск лучших параметров через GridSearchCV"
   ]
  },
  {
   "cell_type": "code",
   "execution_count": 63,
   "metadata": {
    "pycharm": {
     "name": "#%%\n"
    }
   },
   "outputs": [],
   "source": [
    "rfc = RandomForestClassifier(n_jobs=-1)\n",
    "param_grid = {\n",
    "    'n_estimators': [50, 200, 700],\n",
    "    \"max_depth\": [3,7,11],\n",
    "    \"min_samples_split\": [2,3,5,7],\n",
    "    'max_features': ['sqrt', 'log2']\n",
    "}"
   ]
  },
  {
   "cell_type": "code",
   "execution_count": 64,
   "metadata": {
    "pycharm": {
     "name": "#%%\n"
    }
   },
   "outputs": [],
   "source": [
    "CV_rfc = GridSearchCV(estimator = rfc, param_grid = param_grid, cv = 2, verbose=1, n_jobs=-1)"
   ]
  },
  {
   "cell_type": "code",
   "execution_count": 65,
   "metadata": {
    "pycharm": {
     "name": "#%%\n"
    }
   },
   "outputs": [
    {
     "name": "stdout",
     "output_type": "stream",
     "text": [
      "Fitting 2 folds for each of 72 candidates, totalling 144 fits\n"
     ]
    },
    {
     "name": "stderr",
     "output_type": "stream",
     "text": [
      "[Parallel(n_jobs=-1)]: Using backend LokyBackend with 8 concurrent workers.\n",
      "[Parallel(n_jobs=-1)]: Done  34 tasks      | elapsed:  1.9min\n",
      "[Parallel(n_jobs=-1)]: Done 144 out of 144 | elapsed: 13.1min finished\n"
     ]
    },
    {
     "data": {
      "text/plain": [
       "{'max_depth': 11,\n",
       " 'max_features': 'sqrt',\n",
       " 'min_samples_split': 3,\n",
       " 'n_estimators': 700}"
      ]
     },
     "execution_count": 65,
     "metadata": {},
     "output_type": "execute_result"
    }
   ],
   "source": [
    "CV_rfc.fit(x_train, y_train)\n",
    "\n",
    "CV_rfc.best_params_"
   ]
  },
  {
   "cell_type": "markdown",
   "metadata": {},
   "source": [
    "Второй подход поиска лучших параметров через GridSearchCV"
   ]
  },
  {
   "cell_type": "code",
   "execution_count": 72,
   "metadata": {
    "pycharm": {
     "name": "#%%\n"
    }
   },
   "outputs": [],
   "source": [
    "param_grid = {\n",
    "    'n_estimators': [25, 50, 75, 100],\n",
    "    \"max_depth\": [9, 11, 13, 15, 17],\n",
    "    \"min_samples_split\": [7, 9, 11, 13],\n",
    "    'max_features': ['sqrt', 'log2']\n",
    "}"
   ]
  },
  {
   "cell_type": "code",
   "execution_count": 73,
   "metadata": {
    "pycharm": {
     "name": "#%%\n"
    }
   },
   "outputs": [],
   "source": [
    "CV_rfc = GridSearchCV(estimator = rfc, param_grid = param_grid, cv = 2, verbose=1, n_jobs=-1)"
   ]
  },
  {
   "cell_type": "code",
   "execution_count": 74,
   "metadata": {
    "pycharm": {
     "name": "#%%\n"
    }
   },
   "outputs": [
    {
     "name": "stdout",
     "output_type": "stream",
     "text": [
      "Fitting 2 folds for each of 160 candidates, totalling 320 fits\n"
     ]
    },
    {
     "name": "stderr",
     "output_type": "stream",
     "text": [
      "[Parallel(n_jobs=-1)]: Using backend LokyBackend with 8 concurrent workers.\n",
      "[Parallel(n_jobs=-1)]: Done  34 tasks      | elapsed:   47.9s\n",
      "[Parallel(n_jobs=-1)]: Done 184 tasks      | elapsed:  4.6min\n",
      "[Parallel(n_jobs=-1)]: Done 320 out of 320 | elapsed:  8.9min finished\n"
     ]
    },
    {
     "data": {
      "text/plain": [
       "{'max_depth': 15,\n",
       " 'max_features': 'sqrt',\n",
       " 'min_samples_split': 9,\n",
       " 'n_estimators': 100}"
      ]
     },
     "execution_count": 74,
     "metadata": {},
     "output_type": "execute_result"
    }
   ],
   "source": [
    "CV_rfc.fit(x_train, y_train)\n",
    "\n",
    "CV_rfc.best_params_"
   ]
  },
  {
   "cell_type": "markdown",
   "metadata": {},
   "source": [
    "Так как параметры остались в границах поиска, то искать дальше более лучшие параметры смысла нет,\n",
    "так как прирост качества будет незначительным"
   ]
  },
  {
   "cell_type": "code",
   "execution_count": 66,
   "metadata": {
    "pycharm": {
     "name": "#%%\n"
    }
   },
   "outputs": [
    {
     "data": {
      "text/plain": [
       "RandomForestClassifier(max_depth=15, max_features='sqrt', min_samples_split=9,\n",
       "                       n_jobs=-1)"
      ]
     },
     "execution_count": 66,
     "metadata": {},
     "output_type": "execute_result"
    }
   ],
   "source": [
    "cls = RandomForestClassifier(n_jobs=-1,\n",
    "    **{'max_depth': 15,\n",
    " 'max_features': 'sqrt',\n",
    " 'min_samples_split': 9,\n",
    " 'n_estimators': 100})\n",
    "\n",
    "cls.fit(x_train, y_train)"
   ]
  },
  {
   "cell_type": "code",
   "execution_count": 50,
   "metadata": {
    "pycharm": {
     "name": "#%%\n"
    }
   },
   "outputs": [
    {
     "data": {
      "text/plain": [
       "RandomForestClassifier(max_depth=15, max_features='sqrt', min_samples_split=9,\n",
       "                       n_jobs=-1)"
      ]
     },
     "execution_count": 50,
     "metadata": {},
     "output_type": "execute_result"
    }
   ],
   "source": [
    "cls = RandomForestClassifier(n_jobs=-1,\n",
    "    **{'max_depth': 15,\n",
    " 'max_features': 'sqrt',\n",
    " 'min_samples_split': 9,\n",
    " 'n_estimators': 100})\n",
    "\n",
    "cls.fit(x_train, y_train)"
   ]
  },
  {
   "cell_type": "code",
   "execution_count": 67,
   "metadata": {
    "pycharm": {
     "name": "#%%\n"
    }
   },
   "outputs": [
    {
     "data": {
      "text/plain": [
       "0.680333338693338"
      ]
     },
     "execution_count": 67,
     "metadata": {},
     "output_type": "execute_result"
    }
   ],
   "source": [
    "cls.score(x_train, y_train)"
   ]
  },
  {
   "cell_type": "code",
   "execution_count": 68,
   "metadata": {
    "pycharm": {
     "name": "#%%\n"
    }
   },
   "outputs": [
    {
     "data": {
      "text/plain": [
       "0.6611271240608304"
      ]
     },
     "execution_count": 68,
     "metadata": {},
     "output_type": "execute_result"
    }
   ],
   "source": [
    "cls.score(x_test, y_test)"
   ]
  },
  {
   "cell_type": "code",
   "execution_count": 69,
   "metadata": {
    "pycharm": {
     "name": "#%%\n"
    }
   },
   "outputs": [
    {
     "name": "stdout",
     "output_type": "stream",
     "text": [
      "accuracy_score: 0.6611271240608304\n",
      "precision_score: 0.6095738909060556\n",
      "recall_score: 0.4379610194902549\n",
      "f1_score: 0.5097101778018182\n"
     ]
    }
   ],
   "source": [
    "predicted = cls.predict(x_test)\n",
    "print('accuracy_score:', accuracy_score(y_test, predicted))\n",
    "print('precision_score:', precision_score(y_test, predicted))\n",
    "print('recall_score:', recall_score(y_test, predicted))\n",
    "print('f1_score:', f1_score(y_test, predicted))"
   ]
  },
  {
   "cell_type": "code",
   "execution_count": 78,
   "metadata": {
    "pycharm": {
     "name": "#%%\n"
    }
   },
   "outputs": [
    {
     "name": "stdout",
     "output_type": "stream",
     "text": [
      "accuracy_score: 0.6632496773960129\n",
      "precision_score: 0.6248332336568984\n",
      "recall_score: 0.40725637181409297\n",
      "f1_score: 0.49311089730789476\n"
     ]
    }
   ],
   "source": [
    "predicted = cls.predict(x_test)\n",
    "print('accuracy_score:', accuracy_score(y_test, predicted))\n",
    "print('precision_score:', precision_score(y_test, predicted))\n",
    "print('recall_score:', recall_score(y_test, predicted))\n",
    "print('f1_score:', f1_score(y_test, predicted))"
   ]
  },
  {
   "cell_type": "markdown",
   "metadata": {
    "pycharm": {
     "name": "#%% md\n"
    }
   },
   "source": [
    "Качество модели получилось довольно низким, возможно стоит попробовать другую модель"
   ]
  },
  {
   "cell_type": "code",
   "execution_count": 70,
   "metadata": {
    "pycharm": {
     "name": "#%%\n"
    }
   },
   "outputs": [
    {
     "data": {
      "image/png": "[encoded data removed]",
      "text/plain": [
       "<Figure size 720x360 with 1 Axes>"
      ]
     },
     "metadata": {
      "needs_background": "light"
     },
     "output_type": "display_data"
    }
   ],
   "source": [
    "feat_importances = pd.Series(cls.feature_importances_, index=x_train.columns)\n",
    "feat_importances.sort_values().plot(kind='barh', figsize=(10,5))"
   ]
  },
  {
   "cell_type": "markdown",
   "metadata": {},
   "source": [
    "Берем GPU, ставим CUDA Toolkit и запускаем XGBoosterClassifier на GPU"
   ]
  },
  {
   "cell_type": "code",
   "execution_count": 27,
   "metadata": {
    "pycharm": {
     "name": "#%%\n"
    }
   },
   "outputs": [
    {
     "name": "stdout",
     "output_type": "stream",
     "text": [
      "Wed Dec 02 10:42:51 2020       \n",
      "+-----------------------------------------------------------------------------+\n",
      "| NVIDIA-SMI 456.81       Driver Version: 456.81       CUDA Version: 11.1     |\n",
      "|-------------------------------+----------------------+----------------------+\n",
      "| GPU  Name            TCC/WDDM | Bus-Id        Disp.A | Volatile Uncorr. ECC |\n",
      "| Fan  Temp  Perf  Pwr:Usage/Cap|         Memory-Usage | GPU-Util  Compute M. |\n",
      "|                               |                      |               MIG M. |\n",
      "|===============================+======================+======================|\n",
      "|   0  GeForce GTX 105... WDDM  | 00000000:01:00.0 Off |                  N/A |\n",
      "| N/A   42C    P8    N/A /  N/A |     75MiB /  4096MiB |      0%      Default |\n",
      "|                               |                      |                  N/A |\n",
      "+-------------------------------+----------------------+----------------------+\n",
      "                                                                               \n",
      "+-----------------------------------------------------------------------------+\n",
      "| Processes:                                                                  |\n",
      "|  GPU   GI   CI        PID   Type   Process name                  GPU Memory |\n",
      "|        ID   ID                                                   Usage      |\n",
      "|=============================================================================|\n",
      "|    0   N/A  N/A      4232      C   ...Files\\Python38\\python.exe    N/A      |\n",
      "+-----------------------------------------------------------------------------+\n"
     ]
    }
   ],
   "source": [
    "!C:\\\"Program Files\"\\\"NVIDIA Corporation\"\\NVSMI\\nvidia-smi.exe"
   ]
  },
  {
   "cell_type": "code",
   "execution_count": 9,
   "metadata": {
    "pycharm": {
     "name": "#%%\n"
    }
   },
   "outputs": [],
   "source": [
    "sc = StandardScaler()\n",
    "X_train = sc.fit_transform(x_train)\n",
    "X_test  = sc.transform(x_test)"
   ]
  },
  {
   "cell_type": "markdown",
   "metadata": {},
   "source": [
    "На гриде нахожу оптимальные параметры для буста"
   ]
  },
  {
   "cell_type": "code",
   "execution_count": 13,
   "metadata": {
    "pycharm": {
     "name": "#%%\n"
    }
   },
   "outputs": [],
   "source": [
    "booster = xgb.XGBClassifier(tree_method='gpu_hist')"
   ]
  },
  {
   "cell_type": "code",
   "execution_count": 15,
   "metadata": {
    "pycharm": {
     "name": "#%%\n"
    }
   },
   "outputs": [
    {
     "name": "stdout",
     "output_type": "stream",
     "text": [
      "Fitting 3 folds for each of 960 candidates, totalling 2880 fits\n"
     ]
    },
    {
     "name": "stderr",
     "output_type": "stream",
     "text": [
      "[Parallel(n_jobs=-1)]: Using backend LokyBackend with 8 concurrent workers.\n",
      "[Parallel(n_jobs=-1)]: Done  34 tasks      | elapsed:  1.4min\n",
      "[Parallel(n_jobs=-1)]: Done 184 tasks      | elapsed:  7.9min\n",
      "[Parallel(n_jobs=-1)]: Done 434 tasks      | elapsed: 17.7min\n",
      "[Parallel(n_jobs=-1)]: Done 784 tasks      | elapsed: 31.1min\n",
      "[Parallel(n_jobs=-1)]: Done 1234 tasks      | elapsed: 48.5min\n",
      "[Parallel(n_jobs=-1)]: Done 1784 tasks      | elapsed: 70.5min\n",
      "[Parallel(n_jobs=-1)]: Done 2434 tasks      | elapsed: 96.7min\n",
      "[Parallel(n_jobs=-1)]: Done 2880 out of 2880 | elapsed: 114.3min finished\n"
     ]
    },
    {
     "data": {
      "text/plain": [
       "GridSearchCV(cv=3,\n",
       "             estimator=XGBClassifier(base_score=None, booster=None,\n",
       "                                     colsample_bylevel=None,\n",
       "                                     colsample_bynode=None,\n",
       "                                     colsample_bytree=None, gamma=None,\n",
       "                                     gpu_id=None, importance_type='gain',\n",
       "                                     interaction_constraints=None,\n",
       "                                     learning_rate=None, max_delta_step=None,\n",
       "                                     max_depth=None, min_child_weight=None,\n",
       "                                     missing=nan, monotone_constraints=None,\n",
       "                                     n_estimators=100, n_jobs...\n",
       "                                     num_parallel_tree=None, random_state=None,\n",
       "                                     reg_alpha=None, reg_lambda=None,\n",
       "                                     scale_pos_weight=None, subsample=None,\n",
       "                                     tree_method='gpu_hist',\n",
       "                                     validate_parameters=None, verbosity=None),\n",
       "             n_jobs=-1,\n",
       "             param_grid={'colsample_bytree': [0.6, 0.7, 1],\n",
       "                         'gamma': [0.0, 0.1, 0.2, 0.25],\n",
       "                         'learning_rate': [0.01, 0.05, 0.1, 0.2],\n",
       "                         'max_depth': [3, 4, 5, 6, 7],\n",
       "                         'n_estimators': [100, 150, 200, 250]},\n",
       "             verbose=True)"
      ]
     },
     "execution_count": 15,
     "metadata": {},
     "output_type": "execute_result"
    }
   ],
   "source": [
    "param_grid = {'n_estimators': [100, 150, 200, 250],\n",
    "              'learning_rate': [0.01, 0.05, 0.1, 0.2],\n",
    "              'max_depth': [3, 4, 5, 6, 7],\n",
    "              'colsample_bytree': [0.6, 0.7, 1],\n",
    "              'gamma': [0.0, 0.1, 0.2, 0.25],\n",
    "}\n",
    "\n",
    "booster_grid_search = GridSearchCV(booster, param_grid, cv=3, n_jobs=-1, verbose=True)\n",
    "\n",
    "booster_grid_search.fit(X_train, y_train)"
   ]
  },
  {
   "cell_type": "code",
   "execution_count": 16,
   "metadata": {
    "pycharm": {
     "name": "#%%\n"
    }
   },
   "outputs": [
    {
     "data": {
      "text/plain": [
       "{'colsample_bytree': 0.7,\n",
       " 'gamma': 0.1,\n",
       " 'learning_rate': 0.1,\n",
       " 'max_depth': 5,\n",
       " 'n_estimators': 250}"
      ]
     },
     "execution_count": 16,
     "metadata": {},
     "output_type": "execute_result"
    }
   ],
   "source": [
    "booster_grid_search.best_params_"
   ]
  },
  {
   "cell_type": "markdown",
   "metadata": {},
   "source": [
    "Обучаю модель на оптимальных параметрах"
   ]
  },
  {
   "cell_type": "code",
   "execution_count": 17,
   "metadata": {
    "pycharm": {
     "name": "#%%\n"
    }
   },
   "outputs": [],
   "source": [
    "booster = xgb.XGBClassifier(tree_method='gpu_hist', **{'colsample_bytree': 0.7,\n",
    " 'gamma': 0.1,\n",
    " 'learning_rate': 0.1,\n",
    " 'max_depth': 5,\n",
    " 'n_estimators': 250}\n",
    ")\n",
    "\n",
    "\n",
    "booster.fit(X_train, y_train)\n",
    "\n",
    "y_pred_test = booster.predict(X_test)"
   ]
  },
  {
   "cell_type": "code",
   "execution_count": 28,
   "metadata": {
    "pycharm": {
     "name": "#%%\n"
    }
   },
   "outputs": [
    {
     "name": "stdout",
     "output_type": "stream",
     "text": [
      "accuracy_score: 0.6641300546316284\n",
      "precision_score: 0.6105749899477282\n",
      "recall_score: 0.4553223388305847\n",
      "f1_score: 0.5216420474063895\n"
     ]
    }
   ],
   "source": [
    "print('accuracy_score:', accuracy_score(y_test, y_pred_test))\n",
    "print('precision_score:', precision_score(y_test, y_pred_test))\n",
    "print('recall_score:', recall_score(y_test, y_pred_test))\n",
    "print('f1_score:', f1_score(y_test, y_pred_test))"
   ]
  },
  {
   "cell_type": "code",
   "execution_count": 29,
   "metadata": {
    "pycharm": {
     "name": "#%%\n"
    }
   },
   "outputs": [
    {
     "data": {
      "text/plain": [
       "0.6655839457138722"
      ]
     },
     "execution_count": 29,
     "metadata": {},
     "output_type": "execute_result"
    }
   ],
   "source": [
    "booster.score(X_train, y_train)"
   ]
  },
  {
   "cell_type": "code",
   "execution_count": 19,
   "metadata": {
    "pycharm": {
     "name": "#%%\n"
    }
   },
   "outputs": [
    {
     "data": {
      "text/plain": [
       "0.6641300546316284"
      ]
     },
     "execution_count": 19,
     "metadata": {},
     "output_type": "execute_result"
    }
   ],
   "source": [
    "booster.score(X_test, y_test)"
   ]
  },
  {
   "cell_type": "markdown",
   "metadata": {},
   "source": [
    "Находим лучший сид рандома"
   ]
  },
  {
   "cell_type": "code",
   "execution_count": 55,
   "metadata": {
    "pycharm": {
     "name": "#%%\n"
    },
    "scrolled": true
   },
   "outputs": [
    {
     "name": "stdout",
     "output_type": "stream",
     "text": [
      "\n",
      "random=0\n",
      "score train 0.6689044686359324\n",
      "score test 0.6686043005824962\n",
      "precision_score 0.6156713458640654\n",
      "recall_score 0.46606429922252574\n",
      "f1_score 0.5305222873349165\n",
      "\n",
      "random=1\n",
      "score train 0.6696280692727009\n",
      "score test 0.6678204030439344\n",
      "precision_score 0.6167936520468991\n",
      "recall_score 0.4669316517737067\n",
      "f1_score 0.5315008844740781\n",
      "\n",
      "random=2\n",
      "score train 0.6692622489507791\n",
      "score test 0.6674706641421146\n",
      "precision_score 0.6134480185381564\n",
      "recall_score 0.468335832083958\n",
      "f1_score 0.5311591368961589\n",
      "\n",
      "random=3\n",
      "score train 0.6700582096512245\n",
      "score test 0.6665299870958405\n",
      "precision_score 0.6119022400062767\n",
      "recall_score 0.46762201702842066\n",
      "f1_score 0.5301204819277109\n",
      "\n",
      "random=4\n",
      "score train 0.6693064689896927\n",
      "score test 0.6676756834983538\n",
      "precision_score 0.6193084149510294\n",
      "recall_score 0.4621029082774049\n",
      "f1_score 0.5292791253843525\n",
      "\n",
      "random=5\n",
      "score train 0.6703757899306951\n",
      "score test 0.6643712538742629\n",
      "precision_score 0.6113971170600349\n",
      "recall_score 0.4614717838354854\n",
      "f1_score 0.525958983443483\n",
      "\n",
      "random=6\n",
      "score train 0.6701506697325894\n",
      "score test 0.6661078884212304\n",
      "precision_score 0.6144086105982638\n",
      "recall_score 0.4667422637342962\n",
      "f1_score 0.5304911138244472\n",
      "\n",
      "random=7\n",
      "score train 0.6704642300085224\n",
      "score test 0.6646124531168972\n",
      "precision_score 0.6153543152006933\n",
      "recall_score 0.4640152077702201\n",
      "f1_score 0.529075083821587\n",
      "\n",
      "random=8\n",
      "score train 0.6693908890639824\n",
      "score test 0.6665058671715771\n",
      "precision_score 0.6162957074721781\n",
      "recall_score 0.4627965975227578\n",
      "f1_score 0.5286286542231313\n",
      "\n",
      "random=9\n",
      "score train 0.6714692308929232\n",
      "score test 0.662863758607798\n",
      "precision_score 0.6078706409507111\n",
      "recall_score 0.46581273139854296\n",
      "f1_score 0.5274439204151664\n",
      "\n",
      "random=10\n",
      "score train 0.6697084693434531\n",
      "score test 0.6659993487620449\n",
      "precision_score 0.6134470607079929\n",
      "recall_score 0.4591888732352148\n",
      "f1_score 0.5252258584334768\n",
      "\n",
      "random=11\n",
      "score train 0.6707094502243162\n",
      "score test 0.6647451127003461\n",
      "precision_score 0.6115099353508111\n",
      "recall_score 0.4613129076656095\n",
      "f1_score 0.5258975014922828\n",
      "\n",
      "random=12\n",
      "score train 0.6701587097396645\n",
      "score test 0.6656134299738299\n",
      "precision_score 0.6114176061405613\n",
      "recall_score 0.4592654875228972\n",
      "f1_score 0.5245305667495498\n",
      "\n",
      "random=13\n",
      "score train 0.6705084500474361\n",
      "score test 0.6649983719051122\n",
      "precision_score 0.6133727810650887\n",
      "recall_score 0.4637892978583786\n",
      "f1_score 0.5281948501936273\n",
      "\n",
      "random=14\n",
      "score train 0.671328530769107\n",
      "score test 0.6633099772066716\n",
      "precision_score 0.6082096894801055\n",
      "recall_score 0.46245922733937816\n",
      "f1_score 0.5254139326148302\n",
      "\n",
      "random=15\n",
      "score train 0.6703637299200823\n",
      "score test 0.6648174724731364\n",
      "precision_score 0.6111857176712221\n",
      "recall_score 0.462974598330491\n",
      "f1_score 0.5268551778144738\n",
      "\n",
      "random=16\n",
      "score train 0.670134589718439\n",
      "score test 0.6651551514128246\n",
      "precision_score 0.6161269991333806\n",
      "recall_score 0.46466236891357954\n",
      "f1_score 0.5297813606110386\n",
      "\n",
      "random=17\n",
      "score train 0.6705164900545112\n",
      "score test 0.6659269889892546\n",
      "precision_score 0.6143759873617693\n",
      "recall_score 0.4644552593079151\n",
      "f1_score 0.5289986907656471\n",
      "\n",
      "random=18\n",
      "score train 0.6695838492337873\n",
      "score test 0.6678445229681979\n",
      "precision_score 0.6164871713652201\n",
      "recall_score 0.4658050619278406\n",
      "f1_score 0.5306567601649569\n",
      "\n",
      "random=19\n",
      "score train 0.6708581903552076\n",
      "score test 0.6633943969415936\n",
      "precision_score 0.6129761008283461\n",
      "recall_score 0.4601332857312864\n",
      "f1_score 0.5256700032289312\n",
      "\n",
      "random=20\n",
      "score train 0.6709385904259596\n",
      "score test 0.6636114762599645\n",
      "precision_score 0.6102886019977102\n",
      "recall_score 0.4617084826762246\n",
      "f1_score 0.5257018483565441\n",
      "\n",
      "random=21\n",
      "score train 0.6702793098457926\n",
      "score test 0.6653601707690637\n",
      "precision_score 0.6151214909176692\n",
      "recall_score 0.4655695750505892\n",
      "f1_score 0.5299976286459568\n",
      "\n",
      "random=22\n",
      "score train 0.6695436491984113\n",
      "score test 0.6667350064520797\n",
      "precision_score 0.6138056744333492\n",
      "recall_score 0.46407813529869973\n",
      "f1_score 0.5285426689869315\n",
      "\n",
      "random=23\n",
      "score train 0.6692863689720047\n",
      "score test 0.6673380045586657\n",
      "precision_score 0.6154790182106097\n",
      "recall_score 0.46522832006702974\n",
      "f1_score 0.5299089948532669\n",
      "\n",
      "random=24\n",
      "score train 0.6692260689189407\n",
      "score test 0.6678565829303296\n",
      "precision_score 0.6119420516836335\n",
      "recall_score 0.4699179169548092\n",
      "f1_score 0.5316076804027279\n",
      "\n",
      "random=25\n",
      "score train 0.6691979288941774\n",
      "score test 0.6685078208854425\n",
      "precision_score 0.61124951342935\n",
      "recall_score 0.4729391922416649\n",
      "f1_score 0.5332722055252747\n",
      "\n",
      "random=26\n",
      "score train 0.6704602100049848\n",
      "score test 0.6654687104282493\n",
      "precision_score 0.6139606786110671\n",
      "recall_score 0.4625100779360387\n",
      "f1_score 0.5275814500059607\n",
      "\n",
      "random=27\n",
      "score train 0.6698893695026452\n",
      "score test 0.6660475886105718\n",
      "precision_score 0.6143321700507615\n",
      "recall_score 0.4630122246465613\n",
      "f1_score 0.5280452678404036\n",
      "\n",
      "random=28\n",
      "score train 0.6708099503127563\n",
      "score test 0.6656013700116982\n",
      "precision_score 0.6103134956535421\n",
      "recall_score 0.4654288028316885\n",
      "f1_score 0.5281143635125936\n",
      "\n",
      "random=29\n",
      "score train 0.6699657495698597\n",
      "score test 0.6648657123216634\n",
      "precision_score 0.6153846153846154\n",
      "recall_score 0.45506909004088697\n",
      "f1_score 0.5232220983100284\n",
      "\n",
      "random=30\n",
      "score train 0.6699295695380212\n",
      "score test 0.6662043681182841\n",
      "precision_score 0.6098278363857406\n",
      "recall_score 0.46726163646744195\n",
      "f1_score 0.5291095307768212\n",
      "\n",
      "random=31\n",
      "score train 0.6690652687774366\n",
      "score test 0.6674586041799829\n",
      "precision_score 0.6120406567630962\n",
      "recall_score 0.470065453672011\n",
      "f1_score 0.531739292870971\n",
      "\n",
      "random=32\n",
      "score train 0.6701627297432021\n",
      "score test 0.6664817472473137\n",
      "precision_score 0.6140190989420296\n",
      "recall_score 0.46381322957198445\n",
      "f1_score 0.5284498780841305\n",
      "\n",
      "random=33\n",
      "score train 0.6695195291771857\n",
      "score test 0.6673018246722705\n",
      "precision_score 0.6164830841856805\n",
      "recall_score 0.46766540332448\n",
      "f1_score 0.5318603743487925\n",
      "\n",
      "random=34\n",
      "score train 0.6689687886925341\n",
      "score test 0.6679410026652516\n",
      "precision_score 0.6176354290233294\n",
      "recall_score 0.4664914586070959\n",
      "f1_score 0.5315275461938952\n",
      "\n",
      "random=35\n",
      "score train 0.6707255302384666\n",
      "score test 0.6649501320565854\n",
      "precision_score 0.6102037641934982\n",
      "recall_score 0.469118086696562\n",
      "f1_score 0.5304397796031505\n",
      "\n",
      "random=36\n",
      "score train 0.6704561900014472\n",
      "score test 0.6660234686863084\n",
      "precision_score 0.6141317270349529\n",
      "recall_score 0.46324694347293216\n",
      "f1_score 0.5281237752824305\n",
      "\n",
      "random=37\n",
      "score train 0.6689366286642332\n",
      "score test 0.6689781594085794\n",
      "precision_score 0.6176715754376215\n",
      "recall_score 0.46621925277885967\n",
      "f1_score 0.5313641796141368\n",
      "\n",
      "random=38\n",
      "score train 0.6693908890639824\n",
      "score test 0.6674586041799829\n",
      "precision_score 0.6141611687087654\n",
      "recall_score 0.4684018210135378\n",
      "f1_score 0.531468769115748\n",
      "\n",
      "random=39\n",
      "score train 0.6688602485970188\n",
      "score test 0.6672415248616119\n",
      "precision_score 0.6178894152302854\n",
      "recall_score 0.46313590929434584\n",
      "f1_score 0.5294358414625827\n",
      "\n",
      "random=40\n",
      "score train 0.6703396098988567\n",
      "score test 0.6645883331926338\n",
      "precision_score 0.6131899527796516\n",
      "recall_score 0.4610496166124653\n",
      "f1_score 0.5263462651997683\n",
      "\n",
      "random=41\n",
      "score train 0.6697446493752914\n",
      "score test 0.6664093874745234\n",
      "precision_score 0.6146250545267081\n",
      "recall_score 0.46345912325817834\n",
      "f1_score 0.5284440580303108\n",
      "\n",
      "random=42\n",
      "score train 0.6706571901783274\n",
      "score test 0.6654445905039859\n",
      "precision_score 0.6126456969503433\n",
      "recall_score 0.45972742249513254\n",
      "f1_score 0.5252836387904923\n",
      "\n",
      "random=43\n",
      "score train 0.6705245300615864\n",
      "score test 0.6645039134577118\n",
      "precision_score 0.614298079949638\n",
      "recall_score 0.46427190817449226\n",
      "f1_score 0.528850876450165\n",
      "\n",
      "random=44\n",
      "score train 0.6692903889755423\n",
      "score test 0.6675550838770367\n",
      "precision_score 0.6192476833673629\n",
      "recall_score 0.4688168846611177\n",
      "f1_score 0.533633349123638\n",
      "\n",
      "random=45\n",
      "score train 0.6689607486854589\n",
      "score test 0.6684716409990472\n",
      "precision_score 0.6123911322248614\n",
      "recall_score 0.46638326097443317\n",
      "f1_score 0.529506401040597\n",
      "\n",
      "random=46\n",
      "score train 0.6691979288941774\n",
      "score test 0.6670968053160313\n",
      "precision_score 0.615827967246999\n",
      "recall_score 0.46341828188561857\n",
      "f1_score 0.5288615804744836\n",
      "\n",
      "random=47\n",
      "score train 0.6696240492691633\n",
      "score test 0.6666867666035529\n",
      "precision_score 0.6129271048427942\n",
      "recall_score 0.4705248990578735\n",
      "f1_score 0.5323677709722175\n",
      "\n",
      "random=48\n",
      "score train 0.6694391291064337\n",
      "score test 0.6673621244829291\n",
      "precision_score 0.6161264505802321\n",
      "recall_score 0.46118133349308094\n",
      "f1_score 0.527511306016171\n",
      "\n",
      "random=49\n",
      "score train 0.6693064689896927\n",
      "score test 0.6674224242935877\n",
      "precision_score 0.6177417431739597\n",
      "recall_score 0.46394245119694344\n",
      "f1_score 0.5299081192574536\n"
     ]
    },
    {
     "name": "stdout",
     "output_type": "stream",
     "text": [
      "\n",
      "random=50\n",
      "score train 0.6698411294601939\n",
      "score test 0.6665420470579723\n",
      "precision_score 0.6102095478178667\n",
      "recall_score 0.4659808698790832\n",
      "f1_score 0.5284306034041683\n",
      "\n",
      "random=51\n",
      "score train 0.6702511698210294\n",
      "score test 0.665734029595147\n",
      "precision_score 0.6134486981944609\n",
      "recall_score 0.4640466228332337\n",
      "f1_score 0.5283898521379593\n",
      "\n",
      "random=52\n",
      "score train 0.6706692501889402\n",
      "score test 0.6646606929654241\n",
      "precision_score 0.6165891657724256\n",
      "recall_score 0.4607252101089894\n",
      "f1_score 0.5273821259815753\n",
      "\n",
      "random=53\n",
      "score train 0.670154689736127\n",
      "score test 0.665179271337088\n",
      "precision_score 0.6114802437586003\n",
      "recall_score 0.4651851408745588\n",
      "f1_score 0.5283935517844707\n",
      "\n",
      "random=54\n",
      "score train 0.6715858109955136\n",
      "score test 0.6619954413343142\n",
      "precision_score 0.6130301361240066\n",
      "recall_score 0.46137447073105736\n",
      "f1_score 0.5264989609906913\n",
      "\n",
      "random=55\n",
      "score train 0.6701104696972133\n",
      "score test 0.6661078884212304\n",
      "precision_score 0.6124356435643564\n",
      "recall_score 0.4634935859009711\n",
      "f1_score 0.527655508922783\n",
      "\n",
      "random=56\n",
      "score train 0.6699014295132579\n",
      "score test 0.6670726853917679\n",
      "precision_score 0.6164757013038324\n",
      "recall_score 0.46573338905139994\n",
      "f1_score 0.53060599877576\n",
      "\n",
      "random=57\n",
      "score train 0.6702190097927286\n",
      "score test 0.6654325305418541\n",
      "precision_score 0.6178122600719279\n",
      "recall_score 0.4553957048818991\n",
      "f1_score 0.5243141289437585\n",
      "\n",
      "random=58\n",
      "score train 0.6699697695733973\n",
      "score test 0.666168188231889\n",
      "precision_score 0.6159110689136799\n",
      "recall_score 0.46417817000089445\n",
      "f1_score 0.529386762780734\n",
      "\n",
      "random=59\n",
      "score train 0.6704521699979096\n",
      "score test 0.666168188231889\n",
      "precision_score 0.6123841451390258\n",
      "recall_score 0.46515877771120434\n",
      "f1_score 0.5287137141397804\n",
      "\n",
      "random=60\n",
      "score train 0.6700823296724501\n",
      "score test 0.6669762056947142\n",
      "precision_score 0.6178182538111265\n",
      "recall_score 0.464859228362878\n",
      "f1_score 0.5305338320299218\n",
      "\n",
      "random=61\n",
      "score train 0.6695838492337873\n",
      "score test 0.6669641457325824\n",
      "precision_score 0.6185509331415098\n",
      "recall_score 0.46136878502444256\n",
      "f1_score 0.5285209403971248\n",
      "\n",
      "random=62\n",
      "score train 0.6697446493752914\n",
      "score test 0.6674706641421146\n",
      "precision_score 0.6165897162700762\n",
      "recall_score 0.4666686577862732\n",
      "f1_score 0.5312547812930317\n",
      "\n",
      "random=63\n",
      "score train 0.6701305697149014\n",
      "score test 0.6655772500874347\n",
      "precision_score 0.6154089542793861\n",
      "recall_score 0.46356432103914674\n",
      "f1_score 0.5288020390824129\n",
      "\n",
      "random=64\n",
      "score train 0.6691175288234253\n",
      "score test 0.6673862444071925\n",
      "precision_score 0.6160700079554495\n",
      "recall_score 0.46349054345223845\n",
      "f1_score 0.5289978823690143\n",
      "\n",
      "random=65\n",
      "score train 0.6702109697856534\n",
      "score test 0.6662767278910744\n",
      "precision_score 0.6130379946397604\n",
      "recall_score 0.4655771072796935\n",
      "f1_score 0.5292276284450493\n",
      "\n",
      "random=66\n",
      "score train 0.6690130087314476\n",
      "score test 0.6702806353188051\n",
      "precision_score 0.6194173991879853\n",
      "recall_score 0.47049312853678255\n",
      "f1_score 0.5347808331064525\n",
      "\n",
      "random=67\n",
      "score train 0.6699979095981604\n",
      "score test 0.6658787491407276\n",
      "precision_score 0.6086854551850839\n",
      "recall_score 0.46810557325798113\n",
      "f1_score 0.5292188482387127\n",
      "\n",
      "random=68\n",
      "score train 0.6700340896299989\n",
      "score test 0.6662043681182841\n",
      "precision_score 0.6169380587484036\n",
      "recall_score 0.4609100125231081\n",
      "f1_score 0.5276308154418541\n",
      "\n",
      "random=69\n",
      "score train 0.669941629548634\n",
      "score test 0.6662646679289427\n",
      "precision_score 0.6176840780365009\n",
      "recall_score 0.46658941676322907\n",
      "f1_score 0.5316091467646112\n",
      "\n",
      "random=70\n",
      "score train 0.6696119892585506\n",
      "score test 0.6660475886105718\n",
      "precision_score 0.6098092859125332\n",
      "recall_score 0.4628347878423112\n",
      "f1_score 0.52625275872098\n",
      "\n",
      "random=71\n",
      "score train 0.6699496695557092\n",
      "score test 0.6651189715264294\n",
      "precision_score 0.6120740019474197\n",
      "recall_score 0.46878262685320526\n",
      "f1_score 0.5309300989898308\n",
      "\n",
      "random=72\n",
      "score train 0.6699295695380212\n",
      "score test 0.6664335073987868\n",
      "precision_score 0.6138015484278717\n",
      "recall_score 0.46494718889321085\n",
      "f1_score 0.5291043124436046\n",
      "\n",
      "random=73\n",
      "score train 0.6700742896653749\n",
      "score test 0.6652998709584051\n",
      "precision_score 0.6116787173844703\n",
      "recall_score 0.46553219487394204\n",
      "f1_score 0.5286915173643543\n",
      "\n",
      "random=74\n",
      "score train 0.6694632491276592\n",
      "score test 0.6672174049373485\n",
      "precision_score 0.6179926415318273\n",
      "recall_score 0.4654787091391281\n",
      "f1_score 0.531001427697328\n",
      "\n",
      "random=75\n",
      "score train 0.6700622296547621\n",
      "score test 0.6671329852024265\n",
      "precision_score 0.6153334376956794\n",
      "recall_score 0.46941334527541423\n",
      "f1_score 0.5325588090842887\n",
      "\n",
      "random=76\n",
      "score train 0.6690893887986621\n",
      "score test 0.6690625791435015\n",
      "precision_score 0.6141199606686333\n",
      "recall_score 0.46967873902057516\n",
      "f1_score 0.5322742845455011\n",
      "\n",
      "random=77\n",
      "score train 0.6700059496052356\n",
      "score test 0.6664576273230503\n",
      "precision_score 0.6157536670730268\n",
      "recall_score 0.4667898879084188\n",
      "f1_score 0.531022671391993\n",
      "\n",
      "random=78\n",
      "score train 0.6698210294425059\n",
      "score test 0.6673741844450608\n",
      "precision_score 0.6137005649717514\n",
      "recall_score 0.468646073643527\n",
      "f1_score 0.5314533254055891\n",
      "\n",
      "random=79\n",
      "score train 0.6702632298316422\n",
      "score test 0.665480770390381\n",
      "precision_score 0.6127092153681795\n",
      "recall_score 0.4631374308359503\n",
      "f1_score 0.5275260611841657\n",
      "\n",
      "random=80\n",
      "score train 0.6707054302207786\n",
      "score test 0.6647209927760827\n",
      "precision_score 0.6101933216168717\n",
      "recall_score 0.4671689989235737\n",
      "f1_score 0.5291876238378296\n",
      "\n",
      "random=81\n",
      "score train 0.6700180096158485\n",
      "score test 0.6660234686863084\n",
      "precision_score 0.6208141167034289\n",
      "recall_score 0.45910196334302156\n",
      "f1_score 0.5278502378394968\n",
      "\n",
      "random=82\n",
      "score train 0.6702230297962662\n",
      "score test 0.6669520857704507\n",
      "precision_score 0.6123274631128034\n",
      "recall_score 0.46388221153846154\n",
      "f1_score 0.5278670587430759\n",
      "\n",
      "random=83\n",
      "score train 0.6697607293894419\n",
      "score test 0.666554107020104\n",
      "precision_score 0.6080327549229869\n",
      "recall_score 0.46981018379029826\n",
      "f1_score 0.5300586385654796\n",
      "\n",
      "random=84\n",
      "score train 0.6694391291064337\n",
      "score test 0.6671209252402948\n",
      "precision_score 0.6212347272067422\n",
      "recall_score 0.45830730328722297\n",
      "f1_score 0.5274762899304962\n",
      "\n",
      "random=85\n",
      "score train 0.6691577288588014\n",
      "score test 0.6676515635740904\n",
      "precision_score 0.6198068987620688\n",
      "recall_score 0.4612838784698411\n",
      "f1_score 0.5289230769230768\n",
      "\n",
      "random=86\n",
      "score train 0.6702230297962662\n",
      "score test 0.6653722307311956\n",
      "precision_score 0.6159161305694544\n",
      "recall_score 0.4618133095131755\n",
      "f1_score 0.5278472612180305\n",
      "\n",
      "random=87\n",
      "score train 0.6698451494637315\n",
      "score test 0.6671932850130851\n",
      "precision_score 0.6123664182341575\n",
      "recall_score 0.4664063673224208\n",
      "f1_score 0.5295120537388754\n",
      "\n",
      "random=88\n",
      "score train 0.6689004486323948\n",
      "score test 0.6686525404310231\n",
      "precision_score 0.6212639109697933\n",
      "recall_score 0.46552699764719896\n",
      "f1_score 0.5322369205100702\n",
      "\n",
      "random=89\n",
      "score train 0.6709466304330348\n",
      "score test 0.6647812925867412\n",
      "precision_score 0.6114662093693974\n",
      "recall_score 0.4681047857739587\n",
      "f1_score 0.5302666711731504\n",
      "\n",
      "random=90\n",
      "score train 0.6702391098104167\n",
      "score test 0.6660717085348352\n",
      "precision_score 0.6153171820210392\n",
      "recall_score 0.46127191803327655\n",
      "f1_score 0.5272736585116009\n",
      "\n",
      "random=91\n",
      "score train 0.6704119699625336\n",
      "score test 0.6637079559570183\n",
      "precision_score 0.614496805111821\n",
      "recall_score 0.4576876171212707\n",
      "f1_score 0.5246253771799725\n",
      "\n",
      "random=92\n",
      "score train 0.6699577095627844\n",
      "score test 0.6664576273230503\n",
      "precision_score 0.6154090044388079\n",
      "recall_score 0.46378543054269583\n",
      "f1_score 0.5289458893260436\n",
      "\n",
      "random=93\n",
      "score train 0.670194889771503\n",
      "score test 0.6655048903146444\n",
      "precision_score 0.6170843544944264\n",
      "recall_score 0.46378490790255494\n",
      "f1_score 0.5295634180263917\n",
      "\n",
      "random=94\n",
      "score train 0.6707576902667675\n",
      "score test 0.6645400933441069\n",
      "precision_score 0.6128520428401428\n",
      "recall_score 0.4611114427266758\n",
      "f1_score 0.5262620069487022\n",
      "\n",
      "random=95\n",
      "score train 0.6706571901783274\n",
      "score test 0.6652395711477466\n",
      "precision_score 0.6172619753965428\n",
      "recall_score 0.46323507584528156\n",
      "f1_score 0.5292701126034459\n",
      "\n",
      "random=96\n",
      "score train 0.6697526893823667\n",
      "score test 0.6664214474366551\n",
      "precision_score 0.6152063606216789\n",
      "recall_score 0.4606455859036109\n",
      "f1_score 0.5268235938141509\n",
      "\n",
      "random=97\n",
      "score train 0.6708340703339819\n",
      "score test 0.6645039134577118\n",
      "precision_score 0.616692426584235\n",
      "recall_score 0.46164115343538625\n",
      "f1_score 0.5280195449686975\n",
      "\n",
      "random=98\n",
      "score train 0.6709787904613356\n",
      "score test 0.6633943969415936\n",
      "precision_score 0.6143368893437783\n",
      "recall_score 0.46281138790035586\n",
      "f1_score 0.5279163777210223\n",
      "\n",
      "random=99\n",
      "score train 0.6699295695380212\n",
      "score test 0.6677359833090124\n",
      "precision_score 0.6170571182323905\n",
      "recall_score 0.4698004593312852\n",
      "f1_score 0.5334529998475945\n"
     ]
    }
   ],
   "source": [
    "X = data.drop([\"name\", \"success\", \"launched\",\"category\",\"usd_pledged_real\"], axis=1)\n",
    "X = X.join(pd.get_dummies(X['main_category'])).drop([\"main_category\"], axis=1)\n",
    "X[\"country\"] = X[\"country\"].apply(lambda x: x if x in {\"US\"} else \"OT_COUNTRY\")\n",
    "X = X.join(pd.get_dummies(X['country'])).drop([\"country\", \"OT_COUNTRY\"], axis=1)\n",
    "y = data[\"success\"]\n",
    "\n",
    "booster = xgb.XGBClassifier(tree_method='gpu_hist', **{'colsample_bytree': 0.7,\n",
    " 'gamma': 0.1,\n",
    " 'learning_rate': 0.1,\n",
    " 'max_depth': 5,\n",
    " 'n_estimators': 250}\n",
    ")\n",
    "best = [0, 0]\n",
    "for i in range(100):\n",
    "    x_train, x_test, y_train, y_test = train_test_split(X, y,\n",
    "                                                    test_size=0.25,\n",
    "                                                   random_state=i)\n",
    "    sc = StandardScaler()\n",
    "    X_train = sc.fit_transform(x_train)\n",
    "    X_test  = sc.transform(x_test)\n",
    "\n",
    "    booster.fit(X_train, y_train)\n",
    "\n",
    "    y_pred_test = booster.predict(X_test)\n",
    "    score_test = booster.score(X_test, y_test)\n",
    "\n",
    "    if score_test > best[1]:\n",
    "        best = [i, score_test]\n",
    "\n",
    "    print(f\"\"\"\\nrandom={i}\n",
    "score train {booster.score(X_train, y_train)}\n",
    "score test {score_test}\n",
    "precision_score {precision_score(y_test, y_pred_test)}\n",
    "recall_score {recall_score(y_test, y_pred_test)}\n",
    "f1_score {f1_score(y_test, y_pred_test)}\"\"\")"
   ]
  },
  {
   "cell_type": "code",
   "execution_count": 56,
   "metadata": {
    "pycharm": {
     "name": "#%%\n"
    }
   },
   "outputs": [
    {
     "data": {
      "text/plain": [
       "[66, 0.6702806353188051]"
      ]
     },
     "execution_count": 56,
     "metadata": {},
     "output_type": "execute_result"
    }
   ],
   "source": [
    "best"
   ]
  },
  {
   "cell_type": "markdown",
   "metadata": {
    "pycharm": {
     "name": "#%%\n"
    }
   },
   "source": [
    "Получаем значимость параметров"
   ]
  },
  {
   "cell_type": "code",
   "execution_count": 37,
   "metadata": {
    "pycharm": {
     "name": "#%%\n"
    },
    "scrolled": false
   },
   "outputs": [
    {
     "name": "stdout",
     "output_type": "stream",
     "text": [
      "0.6619954413343142\n"
     ]
    },
    {
     "data": {
      "image/png": "[encoded data removed]",
      "text/plain": [
       "<Figure size 720x360 with 1 Axes>"
      ]
     },
     "metadata": {
      "needs_background": "light"
     },
     "output_type": "display_data"
    }
   ],
   "source": [
    "X = data.drop([\"name\", \"success\", \"launched\",\"category\",\"usd_pledged_real\"], axis=1)\n",
    "X = X.join(pd.get_dummies(X['main_category'])).drop([\"main_category\"], axis=1)\n",
    "X[\"country\"] = X[\"country\"].apply(lambda x: x if x in {\"US\"} else \"OT_COUNTRY\")\n",
    "X = X.join(pd.get_dummies(X['country'])).drop([\"country\", \"OT_COUNTRY\"], axis=1)\n",
    "y = data[\"success\"]\n",
    "x_train, x_test, y_train, y_test = train_test_split(X, y,\n",
    "                                                    test_size=0.25,\n",
    "                                                   random_state=66)\n",
    "\n",
    "sc = StandardScaler()\n",
    "X_train = sc.fit_transform(x_train)\n",
    "X_test  = sc.transform(x_test)\n",
    "\n",
    "booster = xgb.XGBClassifier(tree_method='gpu_hist', **{'colsample_bytree': 0.7,\n",
    " 'gamma': 0.1,\n",
    " 'learning_rate': 0.1,\n",
    " 'max_depth': 5,\n",
    " 'n_estimators': 250}\n",
    ")\n",
    "\n",
    "booster.fit(X_train, y_train)\n",
    "\n",
    "print(booster.score(X_test, y_test))\n",
    "\n",
    "feat_importances = pd.Series(booster.feature_importances_, index=x_train.columns)\n",
    "feat_importances.sort_values().plot(kind='barh', figsize=(10,5))\n",
    "plt.xlabel('Relative Feature Importance with XGBoost');\n"
   ]
  },
  {
   "cell_type": "markdown",
   "metadata": {},
   "source": [
    "Сортируем категории по их значимости и пробуем дропнуть самые малозначимые"
   ]
  },
  {
   "cell_type": "code",
   "execution_count": 52,
   "metadata": {
    "scrolled": true
   },
   "outputs": [
    {
     "name": "stdout",
     "output_type": "stream",
     "text": [
      "0 0.6623693001603975\n",
      "1 0.6623693001603975\n",
      "2 0.6616336424703626\n",
      "3 0.6614648030005186\n",
      "4 0.6608859248181961\n",
      "5 0.6599814276583171\n",
      "6 0.6593060697789409\n"
     ]
    }
   ],
   "source": [
    "data_dropped = data.drop([\"name\", \"success\", \"launched\",\"category\",\"usd_pledged_real\"], axis=1)\n",
    "data_dropped[\"country\"] = data_dropped[\"country\"].apply(lambda x: x if x in {\"US\"} else \"OT_COUNTRY\")\n",
    "data_dropped = data_dropped.join(pd.get_dummies(data_dropped['country'])).drop([\"country\", \"OT_COUNTRY\"], axis=1)\n",
    "categories_list = [\"Music\", \"Theater\", \"Fashion\", \"Comics\",\"Technology\",  \"Crafts\",\"Publishing\",\"Dance\",\"Food\", \"Journalism\", \"Photography\", \"Games\", \"Design\", \"Film & Video\", \"Art\"]\n",
    "y = data[\"success\"]\n",
    "\n",
    "for i in range(7):\n",
    "    X = data_dropped.copy()\n",
    "    categories = set(categories_list[:-i if i != 0 else None])\n",
    "    X[\"main_category\"] = X[\"main_category\"].apply(lambda x: x if x in categories else \"OT_CAT\")\n",
    "    X = X.join(pd.get_dummies(X['main_category'])).drop([\"main_category\"], axis=1)\n",
    "    if i!=0: X.drop([\"OT_CAT\"], axis=1)\n",
    "    \n",
    "    x_train, x_test, y_train, y_test = train_test_split(X, y,\n",
    "                                                        test_size=0.25,\n",
    "                                                       random_state=54)\n",
    "    sc = StandardScaler()\n",
    "    X_train = sc.fit_transform(x_train)\n",
    "    X_test  = sc.transform(x_test)\n",
    "\n",
    "    booster = xgb.XGBClassifier(tree_method='gpu_hist', **{'colsample_bytree': 0.7,\n",
    "     'gamma': 0.1,\n",
    "     'learning_rate': 0.1,\n",
    "     'max_depth': 5,\n",
    "     'n_estimators': 250}\n",
    "    )\n",
    "\n",
    "    booster.fit(X_train, y_train)\n",
    "\n",
    "    print(i, booster.score(X_test, y_test))"
   ]
  },
  {
   "cell_type": "markdown",
   "metadata": {},
   "source": [
    "Получается что дропать категории - только хуже"
   ]
  },
  {
   "cell_type": "markdown",
   "metadata": {},
   "source": [
    "Лучший результат на XGBClassifier"
   ]
  },
  {
   "cell_type": "code",
   "execution_count": 59,
   "metadata": {},
   "outputs": [
    {
     "name": "stdout",
     "output_type": "stream",
     "text": [
      "accuracy_score: 0.6702806353188051\n",
      "precision_score: 0.6194173991879853\n",
      "recall_score: 0.47049312853678255\n",
      "f1_score: 0.5347808331064525\n"
     ]
    }
   ],
   "source": [
    "X = data.drop([\"name\", \"success\", \"launched\",\"category\",\"usd_pledged_real\"], axis=1)\n",
    "X = X.join(pd.get_dummies(X['main_category'])).drop([\"main_category\"], axis=1)\n",
    "X[\"country\"] = X[\"country\"].apply(lambda x: x if x in {\"US\"} else \"OT_COUNTRY\")\n",
    "X = X.join(pd.get_dummies(X['country'])).drop([\"country\", \"OT_COUNTRY\"], axis=1)\n",
    "y = data[\"success\"]\n",
    "x_train, x_test, y_train, y_test = train_test_split(X, y,\n",
    "                                                    test_size=0.25,\n",
    "                                                   random_state=66)\n",
    "sc = StandardScaler()\n",
    "X_train = sc.fit_transform(x_train)\n",
    "X_test  = sc.transform(x_test)\n",
    "\n",
    "booster = xgb.XGBClassifier(tree_method='gpu_hist', **{'colsample_bytree': 0.7,\n",
    " 'gamma': 0.1,\n",
    " 'learning_rate': 0.1,\n",
    " 'max_depth': 5,\n",
    " 'n_estimators': 250}\n",
    ")\n",
    "\n",
    "\n",
    "booster.fit(X_train, y_train)\n",
    "\n",
    "y_pred_test = booster.predict(X_test)\n",
    "print('accuracy_score:', accuracy_score(y_test, y_pred_test))\n",
    "print('precision_score:', precision_score(y_test, y_pred_test))\n",
    "print('recall_score:', recall_score(y_test, y_pred_test))\n",
    "print('f1_score:', f1_score(y_test, y_pred_test))"
   ]
  }
 ],
 "metadata": {
  "kernelspec": {
   "display_name": "Python 3",
   "language": "python",
   "name": "python3"
  },
  "language_info": {
   "codemirror_mode": {
    "name": "ipython",
    "version": 3
   },
   "file_extension": ".py",
   "mimetype": "text/x-python",
   "name": "python",
   "nbconvert_exporter": "python",
   "pygments_lexer": "ipython3",
   "version": "3.8.2"
  }
 },
 "nbformat": 4,
 "nbformat_minor": 1
}